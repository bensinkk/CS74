{
 "cells": [
  {
   "cell_type": "code",
   "execution_count": 8,
   "metadata": {},
   "outputs": [],
   "source": [
    "import pandas as pd\n",
    "import numpy as np\n",
    "import matplotlib.pyplot as plt\n",
    "import re\n",
    "import nltk\n",
    "\n",
    "from nltk.corpus import stopwords\n",
    "from nltk.stem.snowball import SnowballStemmer\n",
    "from nltk.tokenize import RegexpTokenizer\n",
    "\n",
    "from sklearn.feature_extraction.text import CountVectorizer\n",
    "from sklearn.model_selection import train_test_split\n",
    "from sklearn.svm import LinearSVC\n",
    "from sklearn import metrics\n",
    "from sklearn.ensemble import AdaBoostClassifier, BaggingClassifier, VotingClassifier\n",
    "from sklearn.linear_model import LogisticRegression\n",
    "from sklearn.naive_bayes import MultinomialNB, ComplementNB, GaussianNB"
   ]
  },
  {
   "cell_type": "code",
   "execution_count": 2,
   "metadata": {},
   "outputs": [],
   "source": [
    "def text_process(text):\n",
    "    text = ' '.join(str(text).split())\n",
    "    return text\n",
    "def df_iter(overall):\n",
    "    if overall > 4.5:\n",
    "        result = 'awesome'\n",
    "    else:\n",
    "        result = 'not'\n",
    "        \n",
    "    return result"
   ]
  },
  {
   "cell_type": "code",
   "execution_count": 3,
   "metadata": {},
   "outputs": [],
   "source": [
    "df = pd.read_json('data/Sports_and_Outdoors_Reviews_training.json', lines=True)\n",
    "grouped_df = df.groupby(\"asin\")\n",
    "grouped_lists = grouped_df[['summary', 'reviewText']].apply(text_process).reset_index()\n",
    "mean_df = grouped_df['overall'].mean()\n",
    "mean_df = mean_df.reset_index()\n",
    "final_df = pd.merge(grouped_lists, mean_df, on=\"asin\")\n",
    "final_df['class'] = final_df.apply(lambda row: df_iter(row['overall']), axis=1)"
   ]
  },
  {
   "cell_type": "code",
   "execution_count": 5,
   "metadata": {},
   "outputs": [],
   "source": [
    "stemmer = SnowballStemmer(\"english\", ignore_stopwords=True)\n",
    "stop_words = stopwords.words(\"english\")\n",
    "token = RegexpTokenizer(r'[a-zA-Z0-9]+')\n",
    "cv = CountVectorizer(preprocessor=stemmer.stem, stop_words=stop_words, ngram_range = (1,2), tokenizer=token.tokenize)\n",
    "text_counts = cv.fit_transform(final_df[0])\n",
    "X_train, X_test, y_train, y_test = train_test_split(text_counts, final_df['class'], test_size = 0.25, random_state = 5)"
   ]
  },
  {
   "cell_type": "markdown",
   "metadata": {},
   "source": [
    "Boosted SVC"
   ]
  },
  {
   "cell_type": "code",
   "execution_count": null,
   "metadata": {},
   "outputs": [],
   "source": [
    "boost_classifier = AdaBoostClassifier(LinearSVC(loss='squared_hinge'),\n",
    "                                      algorithm='SAMME',\n",
    "                                      learning_rate=0.125,\n",
    "                                      n_estimators=200)\n",
    "boost_classifier.fit(X_train, y_train)\n",
    "y_score = boost_classifier.decision_function(X_test)\n",
    "y_pred_boost = boost_classifier.predict(X_test)\n",
    "f1_score_boost = metrics.f1_score(y_test, y_pred_boost, average='weighted')\n",
    "precision_score_boost = metrics.average_precision_score(y_test, y_score, average='weighted', pos_label=\"not\")\n",
    "\n",
    "print('Boosted SVC F1: ' + str('{:04.2f}'.format(f1_score_boost*100)) + '%')\n",
    "print('Boosted SVC Precision-Recall: ' + str('{:04.2f}'.format(precision_score_boost*100)) + '%')"
   ]
  },
  {
   "cell_type": "markdown",
   "metadata": {},
   "source": [
    "Logistic Regression"
   ]
  },
  {
   "cell_type": "code",
   "execution_count": 19,
   "metadata": {},
   "outputs": [
    {
     "name": "stderr",
     "output_type": "stream",
     "text": [
      "[Parallel(n_jobs=1)]: Using backend SequentialBackend with 1 concurrent workers.\n"
     ]
    },
    {
     "name": "stdout",
     "output_type": "stream",
     "text": [
      "convergence after 30 epochs took 16 seconds\n"
     ]
    },
    {
     "name": "stderr",
     "output_type": "stream",
     "text": [
      "[Parallel(n_jobs=1)]: Done   1 out of   1 | elapsed:   15.7s finished\n"
     ]
    },
    {
     "name": "stdout",
     "output_type": "stream",
     "text": [
      "Accuracy of logistic regression classifier on test set: 0.78\n",
      "Logistic regression F1: 78.25%\n",
      "              precision    recall  f1-score   support\n",
      "\n",
      "     awesome       0.73      0.80      0.77      9304\n",
      "         not       0.83      0.76      0.80     11634\n",
      "\n",
      "    accuracy                           0.78     20938\n",
      "   macro avg       0.78      0.78      0.78     20938\n",
      "weighted avg       0.79      0.78      0.78     20938\n",
      "\n",
      "LR Precision-Recall: 89.31%\n"
     ]
    }
   ],
   "source": [
    "logreg = LogisticRegression(penalty='l2',\n",
    "                            solver='saga',\n",
    "                            max_iter=10000,\n",
    "                            class_weight='balanced',\n",
    "                            tol=1e-2,\n",
    "                            verbose=True)\n",
    "logreg.fit(X_train, y_train)\n",
    "\n",
    "# Predicting the results, calculating accuracy\n",
    "y_pred = logreg.predict(X_test)\n",
    "print(\"Accuracy of logistic regression classifier on test set: {:.2f}\".format(logreg.score(X_test, y_test)))\n",
    "# Compute F-1, precision, recall\n",
    "f1_score = metrics.f1_score(y_test, y_pred, average='weighted')\n",
    "print('Logistic regression F1: ' + str('{:04.2f}'.format(f1_score*100)) + '%')\n",
    "from sklearn.metrics import classification_report\n",
    "print(classification_report(y_test, y_pred))\n",
    "\n",
    "y_score = logreg.decision_function(X_test)\n",
    "precision_score_lr = metrics.average_precision_score(y_test, y_score, average='weighted', pos_label=\"not\")\n",
    "print('LR Precision-Recall: ' + str('{:04.2f}'.format(precision_score_lr*100)) + '%')"
   ]
  },
  {
   "cell_type": "code",
   "execution_count": 21,
   "metadata": {},
   "outputs": [
    {
     "name": "stderr",
     "output_type": "stream",
     "text": [
      "[Parallel(n_jobs=1)]: Using backend SequentialBackend with 1 concurrent workers.\n"
     ]
    },
    {
     "name": "stdout",
     "output_type": "stream",
     "text": [
      "convergence after 253 epochs took 140 seconds\n"
     ]
    },
    {
     "name": "stderr",
     "output_type": "stream",
     "text": [
      "[Parallel(n_jobs=1)]: Done   1 out of   1 | elapsed:  2.3min finished\n"
     ]
    },
    {
     "name": "stdout",
     "output_type": "stream",
     "text": [
      "Accuracy of logistic regression classifier on test set: 0.78\n",
      "Logistic regression F1: 78.54%\n",
      "              precision    recall  f1-score   support\n",
      "\n",
      "     awesome       0.74      0.79      0.77      9304\n",
      "         not       0.82      0.78      0.80     11634\n",
      "\n",
      "    accuracy                           0.78     20938\n",
      "   macro avg       0.78      0.79      0.78     20938\n",
      "weighted avg       0.79      0.78      0.79     20938\n",
      "\n",
      "LR Precision-Recall: 89.72%\n"
     ]
    }
   ],
   "source": [
    "logreg = LogisticRegression(penalty='l2',\n",
    "                            solver='saga',\n",
    "                            max_iter=10000,\n",
    "                            class_weight='balanced',\n",
    "                            tol=1e-3,\n",
    "                            verbose=True)\n",
    "logreg.fit(X_train, y_train)\n",
    "\n",
    "# Predicting the results, calculating accuracy\n",
    "y_pred = logreg.predict(X_test)\n",
    "print(\"Accuracy of logistic regression classifier on test set: {:.2f}\".format(logreg.score(X_test, y_test)))\n",
    "# Compute F-1, precision, recall\n",
    "f1_score = metrics.f1_score(y_test, y_pred, average='weighted')\n",
    "print('Logistic regression F1: ' + str('{:04.2f}'.format(f1_score*100)) + '%')\n",
    "from sklearn.metrics import classification_report\n",
    "print(classification_report(y_test, y_pred))\n",
    "\n",
    "y_score = logreg.decision_function(X_test)\n",
    "precision_score_lr = metrics.average_precision_score(y_test, y_score, average='weighted', pos_label=\"not\")\n",
    "print('LR Precision-Recall: ' + str('{:04.2f}'.format(precision_score_lr*100)) + '%')"
   ]
  },
  {
   "cell_type": "markdown",
   "metadata": {},
   "source": [
    "Boosted Naive Bayes"
   ]
  },
  {
   "cell_type": "code",
   "execution_count": null,
   "metadata": {},
   "outputs": [],
   "source": [
    "boost_nb = AdaBoostClassifier(base_estimator=ComplementNB(),\n",
    "                                  n_estimators=1000,\n",
    "                                  learning_rate=0.1)\n",
    "boost_nb.fit(X_train, y_train)\n",
    "from sklearn import metrics\n",
    "predicted = boost_nb.predict(X_test)\n",
    "f1_score = metrics.f1_score(y_test, predicted, average='weighted')\n",
    "print('F1: ' + str('{:04.2f}'.format(f1_score*100)) + '%')"
   ]
  },
  {
   "cell_type": "code",
   "execution_count": 17,
   "metadata": {},
   "outputs": [
    {
     "name": "stdout",
     "output_type": "stream",
     "text": [
      "[Voting] ...................... (1 of 2) Processing svc, total= 5.8min\n",
      "[Voting] ....................... (2 of 2) Processing lr, total=13.2min\n"
     ]
    },
    {
     "data": {
      "text/plain": [
       "VotingClassifier(estimators=[('svc',\n",
       "                              AdaBoostClassifier(algorithm='SAMME',\n",
       "                                                 base_estimator=LinearSVC(),\n",
       "                                                 learning_rate=0.125,\n",
       "                                                 n_estimators=200)),\n",
       "                             ('lr',\n",
       "                              LogisticRegression(class_weight='balanced',\n",
       "                                                 max_iter=10000,\n",
       "                                                 solver='saga'))],\n",
       "                 n_jobs=1, verbose=True)"
      ]
     },
     "execution_count": 17,
     "metadata": {},
     "output_type": "execute_result"
    }
   ],
   "source": [
    "boostsvc = AdaBoostClassifier(LinearSVC(loss='squared_hinge'),\n",
    "                                      algorithm='SAMME',\n",
    "                                      learning_rate=0.125,\n",
    "                                      n_estimators=200)\n",
    "logreg = LogisticRegression(penalty='l2',\n",
    "                            solver='saga',\n",
    "                            max_iter=10000,\n",
    "                            class_weight='balanced')\n",
    "vc = VotingClassifier(estimators=[('svc',boostsvc),('lr',logreg)],\n",
    "                      voting='hard',\n",
    "                      n_jobs=1,\n",
    "                      verbose=True)\n",
    "vc.fit(X_train,y_train)"
   ]
  },
  {
   "cell_type": "code",
   "execution_count": 18,
   "metadata": {},
   "outputs": [
    {
     "name": "stdout",
     "output_type": "stream",
     "text": [
      "F1: 78.56%\n",
      "              precision    recall  f1-score   support\n",
      "\n",
      "     awesome       0.75      0.78      0.76      9304\n",
      "         not       0.82      0.79      0.80     11634\n",
      "\n",
      "    accuracy                           0.79     20938\n",
      "   macro avg       0.78      0.78      0.78     20938\n",
      "weighted avg       0.79      0.79      0.79     20938\n",
      "\n"
     ]
    }
   ],
   "source": [
    "y_pred_vc = vc.predict(X_test)\n",
    "f1_score = metrics.f1_score(y_test, y_pred_vc, average='weighted')\n",
    "print('F1: ' + str('{:04.2f}'.format(f1_score*100)) + '%')\n",
    "print(metrics.classification_report(y_test, y_pred_vc))"
   ]
  },
  {
   "cell_type": "markdown",
   "metadata": {},
   "source": [
    "Aight looks like it's time to **boost** LogReg"
   ]
  },
  {
   "cell_type": "code",
   "execution_count": null,
   "metadata": {},
   "outputs": [
    {
     "name": "stdout",
     "output_type": "stream",
     "text": [
      "estimators = 50\n",
      "samples = 0.1\n"
     ]
    },
    {
     "name": "stderr",
     "output_type": "stream",
     "text": [
      "[Parallel(n_jobs=4)]: Using backend LokyBackend with 4 concurrent workers.\n",
      "[Parallel(n_jobs=4)]: Done   2 out of   4 | elapsed: 13.0min remaining: 13.0min\n",
      "[Parallel(n_jobs=4)]: Done   4 out of   4 | elapsed: 13.4min finished\n",
      "[Parallel(n_jobs=4)]: Using backend LokyBackend with 4 concurrent workers.\n",
      "[Parallel(n_jobs=4)]: Done   2 out of   4 | elapsed:  1.3min remaining:  1.3min\n",
      "[Parallel(n_jobs=4)]: Done   4 out of   4 | elapsed:  1.5min finished\n",
      "[Parallel(n_jobs=4)]: Using backend LokyBackend with 4 concurrent workers.\n",
      "[Parallel(n_jobs=4)]: Done   2 out of   4 | elapsed:   35.9s remaining:   35.9s\n",
      "[Parallel(n_jobs=4)]: Done   4 out of   4 | elapsed:   50.6s finished\n"
     ]
    },
    {
     "name": "stdout",
     "output_type": "stream",
     "text": [
      "F1: 75.62%\n",
      "              precision    recall  f1-score   support\n",
      "\n",
      "     awesome       0.71      0.76      0.73      9304\n",
      "         not       0.80      0.75      0.77     11634\n",
      "\n",
      "    accuracy                           0.76     20938\n",
      "   macro avg       0.75      0.76      0.75     20938\n",
      "weighted avg       0.76      0.76      0.76     20938\n",
      "\n",
      "estimators = 50\n",
      "samples = 0.2\n"
     ]
    },
    {
     "name": "stderr",
     "output_type": "stream",
     "text": [
      "[Parallel(n_jobs=4)]: Using backend LokyBackend with 4 concurrent workers.\n",
      "[Parallel(n_jobs=4)]: Done   2 out of   4 | elapsed: 10.9min remaining: 10.9min\n",
      "[Parallel(n_jobs=4)]: Done   4 out of   4 | elapsed: 11.6min finished\n",
      "[Parallel(n_jobs=4)]: Using backend LokyBackend with 4 concurrent workers.\n",
      "[Parallel(n_jobs=4)]: Done   2 out of   4 | elapsed:  1.4min remaining:  1.4min\n",
      "[Parallel(n_jobs=4)]: Done   4 out of   4 | elapsed:  1.5min finished\n",
      "[Parallel(n_jobs=4)]: Using backend LokyBackend with 4 concurrent workers.\n",
      "[Parallel(n_jobs=4)]: Done   2 out of   4 | elapsed:   56.5s remaining:   56.5s\n",
      "[Parallel(n_jobs=4)]: Done   4 out of   4 | elapsed:  1.1min finished\n"
     ]
    },
    {
     "name": "stdout",
     "output_type": "stream",
     "text": [
      "F1: 76.54%\n",
      "              precision    recall  f1-score   support\n",
      "\n",
      "     awesome       0.72      0.78      0.75      9304\n",
      "         not       0.81      0.75      0.78     11634\n",
      "\n",
      "    accuracy                           0.76     20938\n",
      "   macro avg       0.76      0.77      0.76     20938\n",
      "weighted avg       0.77      0.76      0.77     20938\n",
      "\n",
      "estimators = 50\n",
      "samples = 0.3\n"
     ]
    },
    {
     "name": "stderr",
     "output_type": "stream",
     "text": [
      "[Parallel(n_jobs=4)]: Using backend LokyBackend with 4 concurrent workers.\n",
      "[Parallel(n_jobs=4)]: Done   2 out of   4 | elapsed: 10.2min remaining: 10.2min\n",
      "[Parallel(n_jobs=4)]: Done   4 out of   4 | elapsed: 10.7min finished\n",
      "[Parallel(n_jobs=4)]: Using backend LokyBackend with 4 concurrent workers.\n",
      "[Parallel(n_jobs=4)]: Done   2 out of   4 | elapsed:  1.1min remaining:  1.1min\n",
      "[Parallel(n_jobs=4)]: Done   4 out of   4 | elapsed:  1.3min finished\n",
      "[Parallel(n_jobs=4)]: Using backend LokyBackend with 4 concurrent workers.\n",
      "[Parallel(n_jobs=4)]: Done   2 out of   4 | elapsed:   34.5s remaining:   34.5s\n",
      "[Parallel(n_jobs=4)]: Done   4 out of   4 | elapsed:   45.5s finished\n"
     ]
    },
    {
     "name": "stdout",
     "output_type": "stream",
     "text": [
      "F1: 77.07%\n",
      "              precision    recall  f1-score   support\n",
      "\n",
      "     awesome       0.72      0.79      0.75      9304\n",
      "         not       0.82      0.76      0.79     11634\n",
      "\n",
      "    accuracy                           0.77     20938\n",
      "   macro avg       0.77      0.77      0.77     20938\n",
      "weighted avg       0.77      0.77      0.77     20938\n",
      "\n",
      "estimators = 50\n",
      "samples = 0.4\n"
     ]
    },
    {
     "name": "stderr",
     "output_type": "stream",
     "text": [
      "[Parallel(n_jobs=4)]: Using backend LokyBackend with 4 concurrent workers.\n",
      "[Parallel(n_jobs=4)]: Done   2 out of   4 | elapsed: 10.0min remaining: 10.0min\n",
      "[Parallel(n_jobs=4)]: Done   4 out of   4 | elapsed: 10.5min finished\n",
      "[Parallel(n_jobs=4)]: Using backend LokyBackend with 4 concurrent workers.\n",
      "[Parallel(n_jobs=4)]: Done   2 out of   4 | elapsed:  1.3min remaining:  1.3min\n",
      "[Parallel(n_jobs=4)]: Done   4 out of   4 | elapsed:  1.3min finished\n",
      "[Parallel(n_jobs=4)]: Using backend LokyBackend with 4 concurrent workers.\n",
      "[Parallel(n_jobs=4)]: Done   2 out of   4 | elapsed:   26.3s remaining:   26.3s\n",
      "[Parallel(n_jobs=4)]: Done   4 out of   4 | elapsed:   56.6s finished\n"
     ]
    },
    {
     "name": "stdout",
     "output_type": "stream",
     "text": [
      "F1: 77.39%\n",
      "              precision    recall  f1-score   support\n",
      "\n",
      "     awesome       0.72      0.79      0.76      9304\n",
      "         not       0.82      0.76      0.79     11634\n",
      "\n",
      "    accuracy                           0.77     20938\n",
      "   macro avg       0.77      0.77      0.77     20938\n",
      "weighted avg       0.78      0.77      0.77     20938\n",
      "\n",
      "estimators = 50\n",
      "samples = 0.5\n"
     ]
    },
    {
     "name": "stderr",
     "output_type": "stream",
     "text": [
      "[Parallel(n_jobs=4)]: Using backend LokyBackend with 4 concurrent workers.\n",
      "[Parallel(n_jobs=4)]: Done   2 out of   4 | elapsed:  8.8min remaining:  8.8min\n",
      "[Parallel(n_jobs=4)]: Done   4 out of   4 | elapsed:  9.2min finished\n",
      "[Parallel(n_jobs=4)]: Using backend LokyBackend with 4 concurrent workers.\n",
      "[Parallel(n_jobs=4)]: Done   2 out of   4 | elapsed:  1.1min remaining:  1.1min\n",
      "[Parallel(n_jobs=4)]: Done   4 out of   4 | elapsed:  1.4min finished\n",
      "[Parallel(n_jobs=4)]: Using backend LokyBackend with 4 concurrent workers.\n",
      "[Parallel(n_jobs=4)]: Done   2 out of   4 | elapsed:   11.4s remaining:   11.4s\n",
      "[Parallel(n_jobs=4)]: Done   4 out of   4 | elapsed:   37.7s finished\n"
     ]
    },
    {
     "name": "stdout",
     "output_type": "stream",
     "text": [
      "F1: 77.71%\n",
      "              precision    recall  f1-score   support\n",
      "\n",
      "     awesome       0.73      0.79      0.76      9304\n",
      "         not       0.82      0.76      0.79     11634\n",
      "\n",
      "    accuracy                           0.78     20938\n",
      "   macro avg       0.77      0.78      0.78     20938\n",
      "weighted avg       0.78      0.78      0.78     20938\n",
      "\n",
      "estimators = 100\n",
      "samples = 0.1\n"
     ]
    },
    {
     "name": "stderr",
     "output_type": "stream",
     "text": [
      "[Parallel(n_jobs=4)]: Using backend LokyBackend with 4 concurrent workers.\n",
      "[Parallel(n_jobs=4)]: Done   2 out of   4 | elapsed: 26.5min remaining: 26.5min\n",
      "[Parallel(n_jobs=4)]: Done   4 out of   4 | elapsed: 27.0min finished\n",
      "[Parallel(n_jobs=4)]: Using backend LokyBackend with 4 concurrent workers.\n",
      "[Parallel(n_jobs=4)]: Done   2 out of   4 | elapsed:  2.6min remaining:  2.6min\n",
      "[Parallel(n_jobs=4)]: Done   4 out of   4 | elapsed:  2.9min finished\n",
      "[Parallel(n_jobs=4)]: Using backend LokyBackend with 4 concurrent workers.\n",
      "[Parallel(n_jobs=4)]: Done   2 out of   4 | elapsed:  3.1min remaining:  3.1min\n",
      "[Parallel(n_jobs=4)]: Done   4 out of   4 | elapsed:  3.3min finished\n"
     ]
    },
    {
     "name": "stdout",
     "output_type": "stream",
     "text": [
      "F1: 75.64%\n",
      "              precision    recall  f1-score   support\n",
      "\n",
      "     awesome       0.71      0.76      0.73      9304\n",
      "         not       0.80      0.75      0.77     11634\n",
      "\n",
      "    accuracy                           0.76     20938\n",
      "   macro avg       0.75      0.76      0.75     20938\n",
      "weighted avg       0.76      0.76      0.76     20938\n",
      "\n",
      "estimators = 100\n",
      "samples = 0.2\n"
     ]
    },
    {
     "name": "stderr",
     "output_type": "stream",
     "text": [
      "[Parallel(n_jobs=4)]: Using backend LokyBackend with 4 concurrent workers.\n",
      "[Parallel(n_jobs=4)]: Done   2 out of   4 | elapsed: 30.4min remaining: 30.4min\n",
      "[Parallel(n_jobs=4)]: Done   4 out of   4 | elapsed: 31.0min finished\n",
      "[Parallel(n_jobs=4)]: Using backend LokyBackend with 4 concurrent workers.\n",
      "[Parallel(n_jobs=4)]: Done   2 out of   4 | elapsed:  2.5min remaining:  2.5min\n",
      "[Parallel(n_jobs=4)]: Done   4 out of   4 | elapsed:  2.9min finished\n",
      "[Parallel(n_jobs=4)]: Using backend LokyBackend with 4 concurrent workers.\n",
      "[Parallel(n_jobs=4)]: Done   2 out of   4 | elapsed:  2.6min remaining:  2.6min\n",
      "[Parallel(n_jobs=4)]: Done   4 out of   4 | elapsed:  2.7min finished\n"
     ]
    },
    {
     "name": "stdout",
     "output_type": "stream",
     "text": [
      "F1: 76.67%\n",
      "              precision    recall  f1-score   support\n",
      "\n",
      "     awesome       0.72      0.78      0.75      9304\n",
      "         not       0.81      0.76      0.78     11634\n",
      "\n",
      "    accuracy                           0.77     20938\n",
      "   macro avg       0.76      0.77      0.76     20938\n",
      "weighted avg       0.77      0.77      0.77     20938\n",
      "\n",
      "estimators = 100\n",
      "samples = 0.3\n"
     ]
    },
    {
     "name": "stderr",
     "output_type": "stream",
     "text": [
      "[Parallel(n_jobs=4)]: Using backend LokyBackend with 4 concurrent workers.\n",
      "[Parallel(n_jobs=4)]: Done   2 out of   4 | elapsed: 26.9min remaining: 26.9min\n",
      "[Parallel(n_jobs=4)]: Done   4 out of   4 | elapsed: 27.6min finished\n",
      "[Parallel(n_jobs=4)]: Using backend LokyBackend with 4 concurrent workers.\n",
      "[Parallel(n_jobs=4)]: Done   2 out of   4 | elapsed:  3.1min remaining:  3.1min\n",
      "[Parallel(n_jobs=4)]: Done   4 out of   4 | elapsed:  3.2min finished\n",
      "[Parallel(n_jobs=4)]: Using backend LokyBackend with 4 concurrent workers.\n",
      "[Parallel(n_jobs=4)]: Done   2 out of   4 | elapsed:  2.8min remaining:  2.8min\n",
      "[Parallel(n_jobs=4)]: Done   4 out of   4 | elapsed:  3.0min finished\n"
     ]
    },
    {
     "name": "stdout",
     "output_type": "stream",
     "text": [
      "F1: 77.22%\n",
      "              precision    recall  f1-score   support\n",
      "\n",
      "     awesome       0.72      0.79      0.75      9304\n",
      "         not       0.82      0.76      0.79     11634\n",
      "\n",
      "    accuracy                           0.77     20938\n",
      "   macro avg       0.77      0.77      0.77     20938\n",
      "weighted avg       0.78      0.77      0.77     20938\n",
      "\n",
      "estimators = 100\n",
      "samples = 0.4\n"
     ]
    },
    {
     "name": "stderr",
     "output_type": "stream",
     "text": [
      "[Parallel(n_jobs=4)]: Using backend LokyBackend with 4 concurrent workers.\n",
      "[Parallel(n_jobs=4)]: Done   2 out of   4 | elapsed: 24.7min remaining: 24.7min\n",
      "[Parallel(n_jobs=4)]: Done   4 out of   4 | elapsed: 25.4min finished\n",
      "[Parallel(n_jobs=4)]: Using backend LokyBackend with 4 concurrent workers.\n",
      "[Parallel(n_jobs=4)]: Done   2 out of   4 | elapsed:  3.0min remaining:  3.0min\n",
      "[Parallel(n_jobs=4)]: Done   4 out of   4 | elapsed:  3.1min finished\n",
      "[Parallel(n_jobs=4)]: Using backend LokyBackend with 4 concurrent workers.\n",
      "[Parallel(n_jobs=4)]: Done   2 out of   4 | elapsed:  2.9min remaining:  2.9min\n",
      "[Parallel(n_jobs=4)]: Done   4 out of   4 | elapsed:  3.2min finished\n"
     ]
    },
    {
     "name": "stdout",
     "output_type": "stream",
     "text": [
      "F1: 77.39%\n",
      "              precision    recall  f1-score   support\n",
      "\n",
      "     awesome       0.73      0.79      0.76      9304\n",
      "         not       0.82      0.76      0.79     11634\n",
      "\n",
      "    accuracy                           0.77     20938\n",
      "   macro avg       0.77      0.77      0.77     20938\n",
      "weighted avg       0.78      0.77      0.77     20938\n",
      "\n",
      "estimators = 100\n",
      "samples = 0.5\n"
     ]
    },
    {
     "name": "stderr",
     "output_type": "stream",
     "text": [
      "[Parallel(n_jobs=4)]: Using backend LokyBackend with 4 concurrent workers.\n",
      "[Parallel(n_jobs=4)]: Done   2 out of   4 | elapsed: 18.0min remaining: 18.0min\n",
      "[Parallel(n_jobs=4)]: Done   4 out of   4 | elapsed: 18.5min finished\n",
      "[Parallel(n_jobs=4)]: Using backend LokyBackend with 4 concurrent workers.\n",
      "[Parallel(n_jobs=4)]: Done   2 out of   4 | elapsed:  2.8min remaining:  2.8min\n",
      "[Parallel(n_jobs=4)]: Done   4 out of   4 | elapsed:  2.9min finished\n",
      "[Parallel(n_jobs=4)]: Using backend LokyBackend with 4 concurrent workers.\n",
      "[Parallel(n_jobs=4)]: Done   2 out of   4 | elapsed:  3.3min remaining:  3.3min\n",
      "[Parallel(n_jobs=4)]: Done   4 out of   4 | elapsed:  3.6min finished\n"
     ]
    },
    {
     "name": "stdout",
     "output_type": "stream",
     "text": [
      "F1: 77.64%\n",
      "              precision    recall  f1-score   support\n",
      "\n",
      "     awesome       0.73      0.79      0.76      9304\n",
      "         not       0.82      0.76      0.79     11634\n",
      "\n",
      "    accuracy                           0.78     20938\n",
      "   macro avg       0.77      0.78      0.77     20938\n",
      "weighted avg       0.78      0.78      0.78     20938\n",
      "\n",
      "estimators = 150\n",
      "samples = 0.1\n"
     ]
    },
    {
     "name": "stderr",
     "output_type": "stream",
     "text": [
      "[Parallel(n_jobs=4)]: Using backend LokyBackend with 4 concurrent workers.\n",
      "[Parallel(n_jobs=4)]: Done   2 out of   4 | elapsed: 34.3min remaining: 34.3min\n",
      "[Parallel(n_jobs=4)]: Done   4 out of   4 | elapsed: 35.0min finished\n",
      "[Parallel(n_jobs=4)]: Using backend LokyBackend with 4 concurrent workers.\n",
      "[Parallel(n_jobs=4)]: Done   2 out of   4 | elapsed:  4.4min remaining:  4.4min\n",
      "[Parallel(n_jobs=4)]: Done   4 out of   4 | elapsed:  4.5min finished\n",
      "[Parallel(n_jobs=4)]: Using backend LokyBackend with 4 concurrent workers.\n",
      "[Parallel(n_jobs=4)]: Done   2 out of   4 | elapsed:  4.8min remaining:  4.8min\n",
      "[Parallel(n_jobs=4)]: Done   4 out of   4 | elapsed:  5.2min finished\n"
     ]
    },
    {
     "name": "stdout",
     "output_type": "stream",
     "text": [
      "F1: 75.64%\n",
      "              precision    recall  f1-score   support\n",
      "\n",
      "     awesome       0.71      0.76      0.73      9304\n",
      "         not       0.80      0.75      0.77     11634\n",
      "\n",
      "    accuracy                           0.76     20938\n",
      "   macro avg       0.75      0.76      0.75     20938\n",
      "weighted avg       0.76      0.76      0.76     20938\n",
      "\n",
      "estimators = 150\n",
      "samples = 0.2\n"
     ]
    },
    {
     "name": "stderr",
     "output_type": "stream",
     "text": [
      "[Parallel(n_jobs=4)]: Using backend LokyBackend with 4 concurrent workers.\n",
      "[Parallel(n_jobs=4)]: Done   2 out of   4 | elapsed: 32.8min remaining: 32.8min\n",
      "[Parallel(n_jobs=4)]: Done   4 out of   4 | elapsed: 34.0min finished\n",
      "[Parallel(n_jobs=4)]: Using backend LokyBackend with 4 concurrent workers.\n",
      "[Parallel(n_jobs=4)]: Done   2 out of   4 | elapsed:  3.9min remaining:  3.9min\n",
      "[Parallel(n_jobs=4)]: Done   4 out of   4 | elapsed:  4.1min finished\n",
      "[Parallel(n_jobs=4)]: Using backend LokyBackend with 4 concurrent workers.\n",
      "[Parallel(n_jobs=4)]: Done   2 out of   4 | elapsed:  4.6min remaining:  4.6min\n",
      "[Parallel(n_jobs=4)]: Done   4 out of   4 | elapsed:  4.7min finished\n"
     ]
    },
    {
     "name": "stdout",
     "output_type": "stream",
     "text": [
      "F1: 76.62%\n",
      "              precision    recall  f1-score   support\n",
      "\n",
      "     awesome       0.72      0.78      0.75      9304\n",
      "         not       0.81      0.76      0.78     11634\n",
      "\n",
      "    accuracy                           0.77     20938\n",
      "   macro avg       0.76      0.77      0.76     20938\n",
      "weighted avg       0.77      0.77      0.77     20938\n",
      "\n",
      "estimators = 150\n",
      "samples = 0.3\n"
     ]
    },
    {
     "name": "stderr",
     "output_type": "stream",
     "text": [
      "[Parallel(n_jobs=4)]: Using backend LokyBackend with 4 concurrent workers.\n",
      "[Parallel(n_jobs=4)]: Done   2 out of   4 | elapsed: 32.1min remaining: 32.1min\n",
      "[Parallel(n_jobs=4)]: Done   4 out of   4 | elapsed: 33.0min finished\n",
      "[Parallel(n_jobs=4)]: Using backend LokyBackend with 4 concurrent workers.\n",
      "[Parallel(n_jobs=4)]: Done   2 out of   4 | elapsed:  4.8min remaining:  4.8min\n",
      "[Parallel(n_jobs=4)]: Done   4 out of   4 | elapsed:  5.1min finished\n",
      "[Parallel(n_jobs=4)]: Using backend LokyBackend with 4 concurrent workers.\n",
      "[Parallel(n_jobs=4)]: Done   2 out of   4 | elapsed:  5.8min remaining:  5.8min\n",
      "[Parallel(n_jobs=4)]: Done   4 out of   4 | elapsed:  6.2min finished\n"
     ]
    },
    {
     "name": "stdout",
     "output_type": "stream",
     "text": [
      "F1: 77.11%\n",
      "              precision    recall  f1-score   support\n",
      "\n",
      "     awesome       0.72      0.79      0.75      9304\n",
      "         not       0.82      0.76      0.79     11634\n",
      "\n",
      "    accuracy                           0.77     20938\n",
      "   macro avg       0.77      0.77      0.77     20938\n",
      "weighted avg       0.77      0.77      0.77     20938\n",
      "\n",
      "estimators = 150\n",
      "samples = 0.4\n"
     ]
    },
    {
     "name": "stderr",
     "output_type": "stream",
     "text": [
      "[Parallel(n_jobs=4)]: Using backend LokyBackend with 4 concurrent workers.\n",
      "[Parallel(n_jobs=4)]: Done   2 out of   4 | elapsed: 34.5min remaining: 34.5min\n",
      "[Parallel(n_jobs=4)]: Done   4 out of   4 | elapsed: 35.4min finished\n",
      "[Parallel(n_jobs=4)]: Using backend LokyBackend with 4 concurrent workers.\n",
      "[Parallel(n_jobs=4)]: Done   2 out of   4 | elapsed:  4.5min remaining:  4.5min\n",
      "[Parallel(n_jobs=4)]: Done   4 out of   4 | elapsed:  5.2min finished\n",
      "[Parallel(n_jobs=4)]: Using backend LokyBackend with 4 concurrent workers.\n",
      "[Parallel(n_jobs=4)]: Done   2 out of   4 | elapsed:  5.6min remaining:  5.6min\n",
      "[Parallel(n_jobs=4)]: Done   4 out of   4 | elapsed:  5.8min finished\n"
     ]
    },
    {
     "name": "stdout",
     "output_type": "stream",
     "text": [
      "F1: 77.42%\n",
      "              precision    recall  f1-score   support\n",
      "\n",
      "     awesome       0.73      0.79      0.76      9304\n",
      "         not       0.82      0.76      0.79     11634\n",
      "\n",
      "    accuracy                           0.77     20938\n",
      "   macro avg       0.77      0.78      0.77     20938\n",
      "weighted avg       0.78      0.77      0.77     20938\n",
      "\n",
      "estimators = 150\n",
      "samples = 0.5\n"
     ]
    },
    {
     "name": "stderr",
     "output_type": "stream",
     "text": [
      "[Parallel(n_jobs=4)]: Using backend LokyBackend with 4 concurrent workers.\n",
      "[Parallel(n_jobs=4)]: Done   2 out of   4 | elapsed: 33.1min remaining: 33.1min\n",
      "[Parallel(n_jobs=4)]: Done   4 out of   4 | elapsed: 34.2min finished\n",
      "[Parallel(n_jobs=4)]: Using backend LokyBackend with 4 concurrent workers.\n",
      "[Parallel(n_jobs=4)]: Done   2 out of   4 | elapsed:  4.0min remaining:  4.0min\n",
      "[Parallel(n_jobs=4)]: Done   4 out of   4 | elapsed:  4.1min finished\n",
      "[Parallel(n_jobs=4)]: Using backend LokyBackend with 4 concurrent workers.\n",
      "[Parallel(n_jobs=4)]: Done   2 out of   4 | elapsed:  4.6min remaining:  4.6min\n",
      "[Parallel(n_jobs=4)]: Done   4 out of   4 | elapsed:  4.6min finished\n"
     ]
    },
    {
     "name": "stdout",
     "output_type": "stream",
     "text": [
      "F1: 77.65%\n",
      "              precision    recall  f1-score   support\n",
      "\n",
      "     awesome       0.73      0.79      0.76      9304\n",
      "         not       0.82      0.76      0.79     11634\n",
      "\n",
      "    accuracy                           0.78     20938\n",
      "   macro avg       0.77      0.78      0.77     20938\n",
      "weighted avg       0.78      0.78      0.78     20938\n",
      "\n",
      "estimators = 200\n",
      "samples = 0.1\n"
     ]
    },
    {
     "name": "stderr",
     "output_type": "stream",
     "text": [
      "[Parallel(n_jobs=4)]: Using backend LokyBackend with 4 concurrent workers.\n",
      "[Parallel(n_jobs=4)]: Done   2 out of   4 | elapsed: 221.6min remaining: 221.6min\n",
      "[Parallel(n_jobs=4)]: Done   4 out of   4 | elapsed: 223.0min finished\n",
      "[Parallel(n_jobs=4)]: Using backend LokyBackend with 4 concurrent workers.\n",
      "[Parallel(n_jobs=4)]: Done   2 out of   4 | elapsed:  6.5min remaining:  6.5min\n",
      "[Parallel(n_jobs=4)]: Done   4 out of   4 | elapsed:  7.1min finished\n",
      "[Parallel(n_jobs=4)]: Using backend LokyBackend with 4 concurrent workers.\n",
      "[Parallel(n_jobs=4)]: Done   2 out of   4 | elapsed:  7.5min remaining:  7.5min\n",
      "[Parallel(n_jobs=4)]: Done   4 out of   4 | elapsed:  8.0min finished\n"
     ]
    },
    {
     "name": "stdout",
     "output_type": "stream",
     "text": [
      "F1: 75.65%\n",
      "              precision    recall  f1-score   support\n",
      "\n",
      "     awesome       0.71      0.76      0.73      9304\n",
      "         not       0.80      0.75      0.77     11634\n",
      "\n",
      "    accuracy                           0.76     20938\n",
      "   macro avg       0.75      0.76      0.75     20938\n",
      "weighted avg       0.76      0.76      0.76     20938\n",
      "\n",
      "estimators = 200\n",
      "samples = 0.2\n"
     ]
    },
    {
     "name": "stderr",
     "output_type": "stream",
     "text": [
      "[Parallel(n_jobs=4)]: Using backend LokyBackend with 4 concurrent workers.\n",
      "[Parallel(n_jobs=4)]: Done   2 out of   4 | elapsed: 55.5min remaining: 55.5min\n",
      "[Parallel(n_jobs=4)]: Done   4 out of   4 | elapsed: 56.9min finished\n",
      "[Parallel(n_jobs=4)]: Using backend LokyBackend with 4 concurrent workers.\n",
      "[Parallel(n_jobs=4)]: Done   2 out of   4 | elapsed:  5.7min remaining:  5.7min\n",
      "[Parallel(n_jobs=4)]: Done   4 out of   4 | elapsed:  6.2min finished\n",
      "[Parallel(n_jobs=4)]: Using backend LokyBackend with 4 concurrent workers.\n",
      "[Parallel(n_jobs=4)]: Done   2 out of   4 | elapsed:  7.0min remaining:  7.0min\n",
      "[Parallel(n_jobs=4)]: Done   4 out of   4 | elapsed:  7.5min finished\n"
     ]
    },
    {
     "name": "stdout",
     "output_type": "stream",
     "text": [
      "F1: 76.68%\n",
      "              precision    recall  f1-score   support\n",
      "\n",
      "     awesome       0.72      0.78      0.75      9304\n",
      "         not       0.81      0.76      0.78     11634\n",
      "\n",
      "    accuracy                           0.77     20938\n",
      "   macro avg       0.76      0.77      0.76     20938\n",
      "weighted avg       0.77      0.77      0.77     20938\n",
      "\n",
      "estimators = 200\n",
      "samples = 0.3\n"
     ]
    },
    {
     "name": "stderr",
     "output_type": "stream",
     "text": [
      "[Parallel(n_jobs=4)]: Using backend LokyBackend with 4 concurrent workers.\n",
      "[Parallel(n_jobs=4)]: Done   2 out of   4 | elapsed: 45.8min remaining: 45.8min\n",
      "[Parallel(n_jobs=4)]: Done   4 out of   4 | elapsed: 47.2min finished\n",
      "[Parallel(n_jobs=4)]: Using backend LokyBackend with 4 concurrent workers.\n",
      "[Parallel(n_jobs=4)]: Done   2 out of   4 | elapsed:  5.8min remaining:  5.8min\n",
      "[Parallel(n_jobs=4)]: Done   4 out of   4 | elapsed:  6.6min finished\n",
      "[Parallel(n_jobs=4)]: Using backend LokyBackend with 4 concurrent workers.\n",
      "[Parallel(n_jobs=4)]: Done   2 out of   4 | elapsed:  7.8min remaining:  7.8min\n",
      "[Parallel(n_jobs=4)]: Done   4 out of   4 | elapsed:  8.6min finished\n"
     ]
    },
    {
     "name": "stdout",
     "output_type": "stream",
     "text": [
      "F1: 77.10%\n",
      "              precision    recall  f1-score   support\n",
      "\n",
      "     awesome       0.72      0.78      0.75      9304\n",
      "         not       0.82      0.76      0.79     11634\n",
      "\n",
      "    accuracy                           0.77     20938\n",
      "   macro avg       0.77      0.77      0.77     20938\n",
      "weighted avg       0.77      0.77      0.77     20938\n",
      "\n",
      "estimators = 200\n",
      "samples = 0.4\n"
     ]
    },
    {
     "name": "stderr",
     "output_type": "stream",
     "text": [
      "[Parallel(n_jobs=4)]: Using backend LokyBackend with 4 concurrent workers.\n",
      "[Parallel(n_jobs=4)]: Done   2 out of   4 | elapsed: 38.3min remaining: 38.3min\n",
      "[Parallel(n_jobs=4)]: Done   4 out of   4 | elapsed: 39.7min finished\n",
      "[Parallel(n_jobs=4)]: Using backend LokyBackend with 4 concurrent workers.\n",
      "[Parallel(n_jobs=4)]: Done   2 out of   4 | elapsed:  8.7min remaining:  8.7min\n",
      "[Parallel(n_jobs=4)]: Done   4 out of   4 | elapsed:  9.1min finished\n",
      "[Parallel(n_jobs=4)]: Using backend LokyBackend with 4 concurrent workers.\n",
      "[Parallel(n_jobs=4)]: Done   2 out of   4 | elapsed:  6.0min remaining:  6.0min\n",
      "[Parallel(n_jobs=4)]: Done   4 out of   4 | elapsed:  7.2min finished\n"
     ]
    },
    {
     "name": "stdout",
     "output_type": "stream",
     "text": [
      "F1: 77.43%\n",
      "              precision    recall  f1-score   support\n",
      "\n",
      "     awesome       0.73      0.79      0.76      9304\n",
      "         not       0.82      0.76      0.79     11634\n",
      "\n",
      "    accuracy                           0.77     20938\n",
      "   macro avg       0.77      0.78      0.77     20938\n",
      "weighted avg       0.78      0.77      0.77     20938\n",
      "\n",
      "estimators = 200\n",
      "samples = 0.5\n"
     ]
    },
    {
     "name": "stderr",
     "output_type": "stream",
     "text": [
      "[Parallel(n_jobs=4)]: Using backend LokyBackend with 4 concurrent workers.\n",
      "[Parallel(n_jobs=4)]: Done   2 out of   4 | elapsed: 36.6min remaining: 36.6min\n",
      "[Parallel(n_jobs=4)]: Done   4 out of   4 | elapsed: 38.1min finished\n",
      "[Parallel(n_jobs=4)]: Using backend LokyBackend with 4 concurrent workers.\n",
      "[Parallel(n_jobs=4)]: Done   2 out of   4 | elapsed:  6.3min remaining:  6.3min\n",
      "[Parallel(n_jobs=4)]: Done   4 out of   4 | elapsed:  7.0min finished\n",
      "[Parallel(n_jobs=4)]: Using backend LokyBackend with 4 concurrent workers.\n",
      "[Parallel(n_jobs=4)]: Done   2 out of   4 | elapsed:  6.9min remaining:  6.9min\n",
      "[Parallel(n_jobs=4)]: Done   4 out of   4 | elapsed:  7.2min finished\n"
     ]
    },
    {
     "name": "stdout",
     "output_type": "stream",
     "text": [
      "F1: 77.68%\n",
      "              precision    recall  f1-score   support\n",
      "\n",
      "     awesome       0.73      0.79      0.76      9304\n",
      "         not       0.82      0.76      0.79     11634\n",
      "\n",
      "    accuracy                           0.78     20938\n",
      "   macro avg       0.77      0.78      0.78     20938\n",
      "weighted avg       0.78      0.78      0.78     20938\n",
      "\n",
      "estimators = 250\n",
      "samples = 0.1\n"
     ]
    },
    {
     "name": "stderr",
     "output_type": "stream",
     "text": [
      "[Parallel(n_jobs=4)]: Using backend LokyBackend with 4 concurrent workers.\n",
      "[Parallel(n_jobs=4)]: Done   2 out of   4 | elapsed: 58.6min remaining: 58.6min\n",
      "[Parallel(n_jobs=4)]: Done   4 out of   4 | elapsed: 60.3min finished\n",
      "[Parallel(n_jobs=4)]: Using backend LokyBackend with 4 concurrent workers.\n",
      "[Parallel(n_jobs=4)]: Done   2 out of   4 | elapsed:  8.0min remaining:  8.0min\n",
      "[Parallel(n_jobs=4)]: Done   4 out of   4 | elapsed:  8.2min finished\n",
      "[Parallel(n_jobs=4)]: Using backend LokyBackend with 4 concurrent workers.\n",
      "[Parallel(n_jobs=4)]: Done   2 out of   4 | elapsed:  8.5min remaining:  8.5min\n",
      "[Parallel(n_jobs=4)]: Done   4 out of   4 | elapsed:  9.6min finished\n"
     ]
    },
    {
     "name": "stdout",
     "output_type": "stream",
     "text": [
      "F1: 75.69%\n",
      "              precision    recall  f1-score   support\n",
      "\n",
      "     awesome       0.71      0.76      0.73      9304\n",
      "         not       0.80      0.75      0.77     11634\n",
      "\n",
      "    accuracy                           0.76     20938\n",
      "   macro avg       0.75      0.76      0.75     20938\n",
      "weighted avg       0.76      0.76      0.76     20938\n",
      "\n",
      "estimators = 250\n",
      "samples = 0.2\n"
     ]
    },
    {
     "name": "stderr",
     "output_type": "stream",
     "text": [
      "[Parallel(n_jobs=4)]: Using backend LokyBackend with 4 concurrent workers.\n",
      "[Parallel(n_jobs=4)]: Done   2 out of   4 | elapsed: 54.5min remaining: 54.5min\n",
      "[Parallel(n_jobs=4)]: Done   4 out of   4 | elapsed: 56.3min finished\n",
      "[Parallel(n_jobs=4)]: Using backend LokyBackend with 4 concurrent workers.\n",
      "[Parallel(n_jobs=4)]: Done   2 out of   4 | elapsed:  8.6min remaining:  8.6min\n",
      "[Parallel(n_jobs=4)]: Done   4 out of   4 | elapsed:  8.6min finished\n",
      "[Parallel(n_jobs=4)]: Using backend LokyBackend with 4 concurrent workers.\n",
      "[Parallel(n_jobs=4)]: Done   2 out of   4 | elapsed:  9.8min remaining:  9.8min\n",
      "[Parallel(n_jobs=4)]: Done   4 out of   4 | elapsed: 10.4min finished\n"
     ]
    },
    {
     "name": "stdout",
     "output_type": "stream",
     "text": [
      "F1: 76.64%\n",
      "              precision    recall  f1-score   support\n",
      "\n",
      "     awesome       0.72      0.78      0.75      9304\n",
      "         not       0.81      0.76      0.78     11634\n",
      "\n",
      "    accuracy                           0.77     20938\n",
      "   macro avg       0.76      0.77      0.76     20938\n",
      "weighted avg       0.77      0.77      0.77     20938\n",
      "\n",
      "estimators = 250\n",
      "samples = 0.3\n"
     ]
    },
    {
     "name": "stderr",
     "output_type": "stream",
     "text": [
      "[Parallel(n_jobs=4)]: Using backend LokyBackend with 4 concurrent workers.\n",
      "[Parallel(n_jobs=4)]: Done   2 out of   4 | elapsed: 51.2min remaining: 51.2min\n",
      "[Parallel(n_jobs=4)]: Done   4 out of   4 | elapsed: 53.0min finished\n",
      "[Parallel(n_jobs=4)]: Using backend LokyBackend with 4 concurrent workers.\n",
      "[Parallel(n_jobs=4)]: Done   2 out of   4 | elapsed:  8.4min remaining:  8.4min\n",
      "[Parallel(n_jobs=4)]: Done   4 out of   4 | elapsed:  8.9min finished\n",
      "[Parallel(n_jobs=4)]: Using backend LokyBackend with 4 concurrent workers.\n",
      "[Parallel(n_jobs=4)]: Done   2 out of   4 | elapsed:  9.6min remaining:  9.6min\n",
      "[Parallel(n_jobs=4)]: Done   4 out of   4 | elapsed:  9.8min finished\n"
     ]
    },
    {
     "name": "stdout",
     "output_type": "stream",
     "text": [
      "F1: 77.18%\n",
      "              precision    recall  f1-score   support\n",
      "\n",
      "     awesome       0.72      0.79      0.75      9304\n",
      "         not       0.82      0.76      0.79     11634\n",
      "\n",
      "    accuracy                           0.77     20938\n",
      "   macro avg       0.77      0.77      0.77     20938\n",
      "weighted avg       0.77      0.77      0.77     20938\n",
      "\n",
      "estimators = 250\n",
      "samples = 0.4\n"
     ]
    },
    {
     "name": "stderr",
     "output_type": "stream",
     "text": [
      "[Parallel(n_jobs=4)]: Using backend LokyBackend with 4 concurrent workers.\n",
      "[Parallel(n_jobs=4)]: Done   2 out of   4 | elapsed: 48.3min remaining: 48.3min\n",
      "[Parallel(n_jobs=4)]: Done   4 out of   4 | elapsed: 50.3min finished\n",
      "[Parallel(n_jobs=4)]: Using backend LokyBackend with 4 concurrent workers.\n",
      "[Parallel(n_jobs=4)]: Done   2 out of   4 | elapsed:  8.2min remaining:  8.2min\n",
      "[Parallel(n_jobs=4)]: Done   4 out of   4 | elapsed:  8.9min finished\n",
      "[Parallel(n_jobs=4)]: Using backend LokyBackend with 4 concurrent workers.\n",
      "[Parallel(n_jobs=4)]: Done   2 out of   4 | elapsed:  9.5min remaining:  9.5min\n",
      "[Parallel(n_jobs=4)]: Done   4 out of   4 | elapsed:  9.6min finished\n"
     ]
    },
    {
     "name": "stdout",
     "output_type": "stream",
     "text": [
      "F1: 77.42%\n",
      "              precision    recall  f1-score   support\n",
      "\n",
      "     awesome       0.73      0.79      0.76      9304\n",
      "         not       0.82      0.76      0.79     11634\n",
      "\n",
      "    accuracy                           0.77     20938\n",
      "   macro avg       0.77      0.78      0.77     20938\n",
      "weighted avg       0.78      0.77      0.77     20938\n",
      "\n",
      "estimators = 250\n",
      "samples = 0.5\n"
     ]
    },
    {
     "name": "stderr",
     "output_type": "stream",
     "text": [
      "[Parallel(n_jobs=4)]: Using backend LokyBackend with 4 concurrent workers.\n"
     ]
    }
   ],
   "source": [
    "#Bagging with logistic regression\n",
    "estimators = [50,100,150,200,250,300]\n",
    "samples = [0.1,0.2,0.3,0.4,0.5]\n",
    "for e in estimators:\n",
    "    for s in samples:\n",
    "        print('estimators = {}\\nsamples = {}'.format(e,s))\n",
    "        bag_classifier = BaggingClassifier(base_estimator=LogisticRegression(penalty='l2',\n",
    "                                                                             solver='saga',\n",
    "                                                                             max_iter=10000,\n",
    "                                                                             tol=1e-2,\n",
    "                                                                             class_weight='balanced'),\n",
    "                                           max_samples=s,\n",
    "                                           n_estimators=e,\n",
    "                                           verbose=1,\n",
    "                                           n_jobs=-1)\n",
    "        bag_classifier.fit(X_train, y_train)\n",
    "        y_score = bag_classifier.decision_function(X_test)\n",
    "        y_pred_bag = bag_classifier.predict(X_test)\n",
    "        f1_score = metrics.f1_score(y_test, y_pred_bag, average='weighted')\n",
    "        print('F1: ' + str('{:04.2f}'.format(f1_score*100)) + '%')\n",
    "        print(metrics.classification_report(y_test, y_pred_bag))"
   ]
  },
  {
   "cell_type": "code",
   "execution_count": 29,
   "metadata": {},
   "outputs": [
    {
     "name": "stdout",
     "output_type": "stream",
     "text": [
      "F1: 77.49%\n",
      "              precision    recall  f1-score   support\n",
      "\n",
      "     awesome       0.73      0.79      0.76      9304\n",
      "         not       0.82      0.76      0.79     11634\n",
      "\n",
      "    accuracy                           0.77     20938\n",
      "   macro avg       0.77      0.78      0.77     20938\n",
      "weighted avg       0.78      0.77      0.77     20938\n",
      "\n"
     ]
    }
   ],
   "source": [
    "f1_score = metrics.f1_score(y_test, y_pred_bag, average='weighted')\n",
    "print('F1: ' + str('{:04.2f}'.format(f1_score*100)) + '%')\n",
    "print(metrics.classification_report(y_test, y_pred_bag))"
   ]
  },
  {
   "cell_type": "code",
   "execution_count": 33,
   "metadata": {},
   "outputs": [],
   "source": [
    "#Boosting with logistic regression\n",
    "boo = AdaBoostClassifier(base_estimator=LogisticRegression(penalty='l2',\n",
    "                                                           solver='saga',\n",
    "                                                           max_iter=10000,\n",
    "                                                           tol=1e-2,\n",
    "                                                           class_weight='balanced'),\n",
    "                         learning_rate=0.4,\n",
    "                         n_estimators=100,\n",
    "                         algorithm='SAMME')\n",
    "boo.fit(X_train, y_train)\n",
    "y_score = boo.decision_function(X_test)\n",
    "y_pred_boo = boo.predict(X_test)"
   ]
  },
  {
   "cell_type": "code",
   "execution_count": 34,
   "metadata": {},
   "outputs": [
    {
     "name": "stdout",
     "output_type": "stream",
     "text": [
      "F1: 27.34%\n"
     ]
    },
    {
     "name": "stderr",
     "output_type": "stream",
     "text": [
      "/Users/bensink/anaconda3/lib/python3.8/site-packages/sklearn/metrics/_classification.py:1221: UndefinedMetricWarning: Precision and F-score are ill-defined and being set to 0.0 in labels with no predicted samples. Use `zero_division` parameter to control this behavior.\n",
      "  _warn_prf(average, modifier, msg_start, len(result))\n"
     ]
    },
    {
     "name": "stdout",
     "output_type": "stream",
     "text": [
      "              precision    recall  f1-score   support\n",
      "\n",
      "     awesome       0.44      1.00      0.62      9304\n",
      "         not       0.00      0.00      0.00     11634\n",
      "\n",
      "    accuracy                           0.44     20938\n",
      "   macro avg       0.22      0.50      0.31     20938\n",
      "weighted avg       0.20      0.44      0.27     20938\n",
      "\n"
     ]
    }
   ],
   "source": [
    "f1_score = metrics.f1_score(y_test, y_pred_boo, average='weighted')\n",
    "print('F1: ' + str('{:04.2f}'.format(f1_score*100)) + '%')\n",
    "print(metrics.classification_report(y_test, y_pred_boo))"
   ]
  },
  {
   "cell_type": "code",
   "execution_count": 41,
   "metadata": {},
   "outputs": [
    {
     "name": "stdout",
     "output_type": "stream",
     "text": [
      "hello \n",
      "world\n"
     ]
    }
   ],
   "source": [
    "a = \"hello\"\n",
    "b = \"world\"\n",
    "print('{} \\n{}'.format(a,b))"
   ]
  },
  {
   "cell_type": "code",
   "execution_count": null,
   "metadata": {},
   "outputs": [],
   "source": []
  }
 ],
 "metadata": {
  "kernelspec": {
   "display_name": "Python 3",
   "language": "python",
   "name": "python3"
  },
  "language_info": {
   "codemirror_mode": {
    "name": "ipython",
    "version": 3
   },
   "file_extension": ".py",
   "mimetype": "text/x-python",
   "name": "python",
   "nbconvert_exporter": "python",
   "pygments_lexer": "ipython3",
   "version": "3.8.3"
  }
 },
 "nbformat": 4,
 "nbformat_minor": 4
}
