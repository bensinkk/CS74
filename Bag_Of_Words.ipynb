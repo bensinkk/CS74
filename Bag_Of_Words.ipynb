{
 "cells": [
  {
   "cell_type": "markdown",
   "metadata": {},
   "source": [
    "## Bag of Words\n",
    "\n",
    "taking the data and preprocessing to generate a bag of words for each ASIN"
   ]
  },
  {
   "cell_type": "code",
   "execution_count": 18,
   "metadata": {},
   "outputs": [],
   "source": [
    "import pandas as pd\n",
    "\n",
    "import nltk\n",
    "from nltk.corpus import stopwords\n",
    "from nltk.tokenize import RegexpTokenizer\n",
    "from nltk.stem.snowball import SnowballStemmer\n",
    "\n",
    "from sklearn.naive_bayes import MultinomialNB, ComplementNB\n",
    "from sklearn.feature_extraction.text import CountVectorizer, TfidfVectorizer"
   ]
  },
  {
   "cell_type": "code",
   "execution_count": 2,
   "metadata": {},
   "outputs": [],
   "source": [
    "# this one takes a lil while so be careful\n",
    "df = pd.read_json('data/Sports_and_Outdoors_Reviews_training.json', lines=True)\n",
    "\n",
    "# take out reviews without reviewText and sort them by ASIN\n",
    "df = df[df['reviewText'].notna()]\n",
    "df = df[df['asin'].notna()]\n",
    "df_sorted = df.sort_values(by='asin')\n",
    "df_sorted"
   ]
  },
  {
   "cell_type": "code",
   "execution_count": 10,
   "metadata": {},
   "outputs": [
    {
     "data": {
      "text/plain": [
       "5    1544003\n",
       "4     397940\n",
       "3     168761\n",
       "1      89173\n",
       "2      81544\n",
       "Name: overall, dtype: int64"
      ]
     },
     "execution_count": 10,
     "metadata": {},
     "output_type": "execute_result"
    }
   ],
   "source": [
    "# showing breakdown of review ratings\n",
    "df_sorted.overall.value_counts()"
   ]
  },
  {
   "cell_type": "code",
   "execution_count": 35,
   "metadata": {},
   "outputs": [],
   "source": [
    "# generating document term matrix (DTM) \n",
    "token = RegexpTokenizer(r'[a-zA-Z0-9]+')\n",
    "cv = CountVectorizer(stop_words='english', ngram_range = (1,3), tokenizer=token.tokenize)\n",
    "text_counts = cv.fit_transform(df_sorted['reviewText'])"
   ]
  },
  {
   "cell_type": "markdown",
   "metadata": {},
   "source": [
    "all the comments below are a skeleton for eventually doing k-fold cross validation"
   ]
  },
  {
   "cell_type": "code",
   "execution_count": 37,
   "metadata": {},
   "outputs": [],
   "source": [
    "# splitting data for testing and training to see how well model performs\n",
    "\n",
    "# from sklearn.cross_validation import StratifiedShuffleSplit\n",
    "# sss = StratifiedShuffleSplit(y, n_iter=1, test_size=0.5, random_state=0)\n",
    "from sklearn.model_selection import train_test_split\n",
    "X_train, X_test, Y_train, Y_test = train_test_split(text_counts, df_sorted['overall'], test_size = 0.25, random_state = 5)\n",
    "# for train_idx, test_idx in sss:\n",
    "#     X_train, X_test, y_train, y_test = X[train_idx], X[test_idx], y[train_idx], y[test_idx]\n",
    "#     svc.fit(X_train, y_train)\n",
    "#     y_pred = svc.predict(X_test)\n",
    "#     print(f1_score(y_test, y_pred, average=\"macro\"))\n",
    "#     print(precision_score(y_test, y_pred, average=\"macro\"))\n",
    "#     print(recall_score(y_test, y_pred, average=\"macro\"))    "
   ]
  },
  {
   "cell_type": "markdown",
   "metadata": {},
   "source": [
    "hey chris check this out"
   ]
  },
  {
   "cell_type": "code",
   "execution_count": 38,
   "metadata": {},
   "outputs": [
    {
     "data": {
      "text/plain": [
       "ComplementNB()"
      ]
     },
     "execution_count": 38,
     "metadata": {},
     "output_type": "execute_result"
    }
   ],
   "source": [
    "# fitting the model\n",
    "CNB = ComplementNB()\n",
    "CNB.fit(X_train, Y_train)"
   ]
  },
  {
   "cell_type": "code",
   "execution_count": 39,
   "metadata": {},
   "outputs": [
    {
     "name": "stdout",
     "output_type": "stream",
     "text": [
      "F1: 69.33%\n"
     ]
    }
   ],
   "source": [
    "# checking accuracy\n",
    "from sklearn import metrics\n",
    "predicted = CNB.predict(X_test)\n",
    "f1_score = metrics.f1_score(Y_test, predicted, average='weighted')\n",
    "# auc_score = metrics.roc_auc_score(Y_test, predicted, average='weighted')\n",
    "print('F1: ' + str('{:04.2f}'.format(f1_score*100)) + '%')\n",
    "# print('AUC: ' + str('{:04.2f}'.format(auc_score*100)) + '%')"
   ]
  },
  {
   "cell_type": "code",
   "execution_count": null,
   "metadata": {},
   "outputs": [],
   "source": []
  }
 ],
 "metadata": {
  "kernelspec": {
   "display_name": "Python 3",
   "language": "python",
   "name": "python3"
  },
  "language_info": {
   "codemirror_mode": {
    "name": "ipython",
    "version": 3
   },
   "file_extension": ".py",
   "mimetype": "text/x-python",
   "name": "python",
   "nbconvert_exporter": "python",
   "pygments_lexer": "ipython3",
   "version": "3.8.3"
  }
 },
 "nbformat": 4,
 "nbformat_minor": 4
}
