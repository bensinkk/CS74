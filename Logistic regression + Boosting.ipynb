{
 "cells": [
  {
   "cell_type": "markdown",
   "metadata": {},
   "source": [
    "## Logistic regression"
   ]
  },
  {
   "cell_type": "code",
   "execution_count": 1,
   "metadata": {},
   "outputs": [],
   "source": [
    "import pandas as pd\n",
    "import numpy as np\n",
    "import matplotlib.pyplot as plt\n",
    "import re\n",
    "import nltk\n",
    "\n",
    "from nltk.corpus import stopwords\n",
    "from nltk.tokenize import RegexpTokenizer\n",
    "from nltk.stem.snowball import SnowballStemmer\n",
    "\n",
    "from sklearn.feature_extraction.text import CountVectorizer\n",
    "from sklearn.model_selection import train_test_split\n",
    "from sklearn.svm import LinearSVC\n",
    "from sklearn import metrics\n",
    "from sklearn.ensemble import AdaBoostRegressor, BaggingClassifier\n",
    "from sklearn.linear_model import LogisticRegression, LogisticRegressionCV"
   ]
  },
  {
   "cell_type": "code",
   "execution_count": 2,
   "metadata": {},
   "outputs": [],
   "source": [
    "# LOAD EM UP\n",
    "df = pd.read_json('data/Sports_and_Outdoors_Reviews_training.json', lines=True)"
   ]
  },
  {
   "cell_type": "code",
   "execution_count": 3,
   "metadata": {},
   "outputs": [],
   "source": [
    "def text_process(text):\n",
    "    text = ' '.join(str(text).split())\n",
    "    return text"
   ]
  },
  {
   "cell_type": "code",
   "execution_count": 4,
   "metadata": {},
   "outputs": [
    {
     "data": {
      "text/html": [
       "<div>\n",
       "<style scoped>\n",
       "    .dataframe tbody tr th:only-of-type {\n",
       "        vertical-align: middle;\n",
       "    }\n",
       "\n",
       "    .dataframe tbody tr th {\n",
       "        vertical-align: top;\n",
       "    }\n",
       "\n",
       "    .dataframe thead th {\n",
       "        text-align: right;\n",
       "    }\n",
       "</style>\n",
       "<table border=\"1\" class=\"dataframe\">\n",
       "  <thead>\n",
       "    <tr style=\"text-align: right;\">\n",
       "      <th></th>\n",
       "      <th>asin</th>\n",
       "      <th>0</th>\n",
       "    </tr>\n",
       "  </thead>\n",
       "  <tbody>\n",
       "    <tr>\n",
       "      <th>0</th>\n",
       "      <td>00018C9635D55E22BF157AA13E91226F</td>\n",
       "      <td>summary \\ 2045677 Five Stars 2045678 I recomme...</td>\n",
       "    </tr>\n",
       "    <tr>\n",
       "      <th>1</th>\n",
       "      <td>0001DE3A462B5C5D33AF3BC1053FC20C</td>\n",
       "      <td>summary \\ 2142792 Very portable, fairly durabl...</td>\n",
       "    </tr>\n",
       "    <tr>\n",
       "      <th>2</th>\n",
       "      <td>00022ACC61318C98DA944B9BABD9E5AB</td>\n",
       "      <td>summary \\ 434812 Great product, poor shipping....</td>\n",
       "    </tr>\n",
       "    <tr>\n",
       "      <th>3</th>\n",
       "      <td>0002C8404EBEDA230E4B66A85CEC5503</td>\n",
       "      <td>summary \\ 417817 Small and Cheap 417818 One St...</td>\n",
       "    </tr>\n",
       "    <tr>\n",
       "      <th>4</th>\n",
       "      <td>00034EBDF69991833D05B51EE7B11234</td>\n",
       "      <td>summary \\ 91838 Pretty Good 91839 Escrima stic...</td>\n",
       "    </tr>\n",
       "    <tr>\n",
       "      <th>...</th>\n",
       "      <td>...</td>\n",
       "      <td>...</td>\n",
       "    </tr>\n",
       "    <tr>\n",
       "      <th>83744</th>\n",
       "      <td>FFFCB2EBE4D59DA2E256396B12F59FB1</td>\n",
       "      <td>summary \\ 1262012 For The Price, Resin Pads Al...</td>\n",
       "    </tr>\n",
       "    <tr>\n",
       "      <th>83745</th>\n",
       "      <td>FFFEE00C6052E1A688F4639D650AA50D</td>\n",
       "      <td>summary \\ 593487 Good purchase 593488 Great ba...</td>\n",
       "    </tr>\n",
       "    <tr>\n",
       "      <th>83746</th>\n",
       "      <td>FFFEE7703FE466554E6B5F9C21F09297</td>\n",
       "      <td>summary \\ 593764 Cheapo zipper not for me 5937...</td>\n",
       "    </tr>\n",
       "    <tr>\n",
       "      <th>83747</th>\n",
       "      <td>FFFF67EAA043C2DB092DBC8934077556</td>\n",
       "      <td>summary \\ 1496788 No specs -- no deal 1496789 ...</td>\n",
       "    </tr>\n",
       "    <tr>\n",
       "      <th>83748</th>\n",
       "      <td>FFFF9DFFBC5FB24D6AB70F651206363C</td>\n",
       "      <td>summary \\ 2059205 what can i say 2059206 Crudd...</td>\n",
       "    </tr>\n",
       "  </tbody>\n",
       "</table>\n",
       "<p>83749 rows × 2 columns</p>\n",
       "</div>"
      ],
      "text/plain": [
       "                                   asin  \\\n",
       "0      00018C9635D55E22BF157AA13E91226F   \n",
       "1      0001DE3A462B5C5D33AF3BC1053FC20C   \n",
       "2      00022ACC61318C98DA944B9BABD9E5AB   \n",
       "3      0002C8404EBEDA230E4B66A85CEC5503   \n",
       "4      00034EBDF69991833D05B51EE7B11234   \n",
       "...                                 ...   \n",
       "83744  FFFCB2EBE4D59DA2E256396B12F59FB1   \n",
       "83745  FFFEE00C6052E1A688F4639D650AA50D   \n",
       "83746  FFFEE7703FE466554E6B5F9C21F09297   \n",
       "83747  FFFF67EAA043C2DB092DBC8934077556   \n",
       "83748  FFFF9DFFBC5FB24D6AB70F651206363C   \n",
       "\n",
       "                                                       0  \n",
       "0      summary \\ 2045677 Five Stars 2045678 I recomme...  \n",
       "1      summary \\ 2142792 Very portable, fairly durabl...  \n",
       "2      summary \\ 434812 Great product, poor shipping....  \n",
       "3      summary \\ 417817 Small and Cheap 417818 One St...  \n",
       "4      summary \\ 91838 Pretty Good 91839 Escrima stic...  \n",
       "...                                                  ...  \n",
       "83744  summary \\ 1262012 For The Price, Resin Pads Al...  \n",
       "83745  summary \\ 593487 Good purchase 593488 Great ba...  \n",
       "83746  summary \\ 593764 Cheapo zipper not for me 5937...  \n",
       "83747  summary \\ 1496788 No specs -- no deal 1496789 ...  \n",
       "83748  summary \\ 2059205 what can i say 2059206 Crudd...  \n",
       "\n",
       "[83749 rows x 2 columns]"
      ]
     },
     "execution_count": 4,
     "metadata": {},
     "output_type": "execute_result"
    }
   ],
   "source": [
    "# this one takes a lil while so be careful\n",
    "# group by product and aggregate all the review text\n",
    "grouped_df = df.groupby(\"asin\")\n",
    "grouped_lists = grouped_df[[\"summary\", \"reviewText\"]].apply(text_process).reset_index()\n",
    "grouped_lists"
   ]
  },
  {
   "cell_type": "code",
   "execution_count": 5,
   "metadata": {
    "scrolled": true
   },
   "outputs": [
    {
     "data": {
      "text/html": [
       "<div>\n",
       "<style scoped>\n",
       "    .dataframe tbody tr th:only-of-type {\n",
       "        vertical-align: middle;\n",
       "    }\n",
       "\n",
       "    .dataframe tbody tr th {\n",
       "        vertical-align: top;\n",
       "    }\n",
       "\n",
       "    .dataframe thead th {\n",
       "        text-align: right;\n",
       "    }\n",
       "</style>\n",
       "<table border=\"1\" class=\"dataframe\">\n",
       "  <thead>\n",
       "    <tr style=\"text-align: right;\">\n",
       "      <th></th>\n",
       "      <th>asin</th>\n",
       "      <th>overall</th>\n",
       "    </tr>\n",
       "  </thead>\n",
       "  <tbody>\n",
       "    <tr>\n",
       "      <th>0</th>\n",
       "      <td>00018C9635D55E22BF157AA13E91226F</td>\n",
       "      <td>4.090909</td>\n",
       "    </tr>\n",
       "    <tr>\n",
       "      <th>1</th>\n",
       "      <td>0001DE3A462B5C5D33AF3BC1053FC20C</td>\n",
       "      <td>3.909091</td>\n",
       "    </tr>\n",
       "    <tr>\n",
       "      <th>2</th>\n",
       "      <td>00022ACC61318C98DA944B9BABD9E5AB</td>\n",
       "      <td>4.698413</td>\n",
       "    </tr>\n",
       "    <tr>\n",
       "      <th>3</th>\n",
       "      <td>0002C8404EBEDA230E4B66A85CEC5503</td>\n",
       "      <td>3.400000</td>\n",
       "    </tr>\n",
       "    <tr>\n",
       "      <th>4</th>\n",
       "      <td>00034EBDF69991833D05B51EE7B11234</td>\n",
       "      <td>4.214286</td>\n",
       "    </tr>\n",
       "    <tr>\n",
       "      <th>...</th>\n",
       "      <td>...</td>\n",
       "      <td>...</td>\n",
       "    </tr>\n",
       "    <tr>\n",
       "      <th>83744</th>\n",
       "      <td>FFFCB2EBE4D59DA2E256396B12F59FB1</td>\n",
       "      <td>4.941176</td>\n",
       "    </tr>\n",
       "    <tr>\n",
       "      <th>83745</th>\n",
       "      <td>FFFEE00C6052E1A688F4639D650AA50D</td>\n",
       "      <td>4.452381</td>\n",
       "    </tr>\n",
       "    <tr>\n",
       "      <th>83746</th>\n",
       "      <td>FFFEE7703FE466554E6B5F9C21F09297</td>\n",
       "      <td>4.310345</td>\n",
       "    </tr>\n",
       "    <tr>\n",
       "      <th>83747</th>\n",
       "      <td>FFFF67EAA043C2DB092DBC8934077556</td>\n",
       "      <td>4.600000</td>\n",
       "    </tr>\n",
       "    <tr>\n",
       "      <th>83748</th>\n",
       "      <td>FFFF9DFFBC5FB24D6AB70F651206363C</td>\n",
       "      <td>2.800000</td>\n",
       "    </tr>\n",
       "  </tbody>\n",
       "</table>\n",
       "<p>83749 rows × 2 columns</p>\n",
       "</div>"
      ],
      "text/plain": [
       "                                   asin   overall\n",
       "0      00018C9635D55E22BF157AA13E91226F  4.090909\n",
       "1      0001DE3A462B5C5D33AF3BC1053FC20C  3.909091\n",
       "2      00022ACC61318C98DA944B9BABD9E5AB  4.698413\n",
       "3      0002C8404EBEDA230E4B66A85CEC5503  3.400000\n",
       "4      00034EBDF69991833D05B51EE7B11234  4.214286\n",
       "...                                 ...       ...\n",
       "83744  FFFCB2EBE4D59DA2E256396B12F59FB1  4.941176\n",
       "83745  FFFEE00C6052E1A688F4639D650AA50D  4.452381\n",
       "83746  FFFEE7703FE466554E6B5F9C21F09297  4.310345\n",
       "83747  FFFF67EAA043C2DB092DBC8934077556  4.600000\n",
       "83748  FFFF9DFFBC5FB24D6AB70F651206363C  2.800000\n",
       "\n",
       "[83749 rows x 2 columns]"
      ]
     },
     "execution_count": 5,
     "metadata": {},
     "output_type": "execute_result"
    }
   ],
   "source": [
    "# get the mean of all the ratings for a product\n",
    "mean_df = grouped_df['overall'].mean()\n",
    "mean_df = mean_df.reset_index()\n",
    "mean_df"
   ]
  },
  {
   "cell_type": "code",
   "execution_count": 6,
   "metadata": {},
   "outputs": [
    {
     "data": {
      "text/html": [
       "<div>\n",
       "<style scoped>\n",
       "    .dataframe tbody tr th:only-of-type {\n",
       "        vertical-align: middle;\n",
       "    }\n",
       "\n",
       "    .dataframe tbody tr th {\n",
       "        vertical-align: top;\n",
       "    }\n",
       "\n",
       "    .dataframe thead th {\n",
       "        text-align: right;\n",
       "    }\n",
       "</style>\n",
       "<table border=\"1\" class=\"dataframe\">\n",
       "  <thead>\n",
       "    <tr style=\"text-align: right;\">\n",
       "      <th></th>\n",
       "      <th>asin</th>\n",
       "      <th>0</th>\n",
       "      <th>overall</th>\n",
       "    </tr>\n",
       "  </thead>\n",
       "  <tbody>\n",
       "    <tr>\n",
       "      <th>0</th>\n",
       "      <td>00018C9635D55E22BF157AA13E91226F</td>\n",
       "      <td>summary \\ 2045677 Five Stars 2045678 I recomme...</td>\n",
       "      <td>4.090909</td>\n",
       "    </tr>\n",
       "    <tr>\n",
       "      <th>1</th>\n",
       "      <td>0001DE3A462B5C5D33AF3BC1053FC20C</td>\n",
       "      <td>summary \\ 2142792 Very portable, fairly durabl...</td>\n",
       "      <td>3.909091</td>\n",
       "    </tr>\n",
       "    <tr>\n",
       "      <th>2</th>\n",
       "      <td>00022ACC61318C98DA944B9BABD9E5AB</td>\n",
       "      <td>summary \\ 434812 Great product, poor shipping....</td>\n",
       "      <td>4.698413</td>\n",
       "    </tr>\n",
       "    <tr>\n",
       "      <th>3</th>\n",
       "      <td>0002C8404EBEDA230E4B66A85CEC5503</td>\n",
       "      <td>summary \\ 417817 Small and Cheap 417818 One St...</td>\n",
       "      <td>3.400000</td>\n",
       "    </tr>\n",
       "    <tr>\n",
       "      <th>4</th>\n",
       "      <td>00034EBDF69991833D05B51EE7B11234</td>\n",
       "      <td>summary \\ 91838 Pretty Good 91839 Escrima stic...</td>\n",
       "      <td>4.214286</td>\n",
       "    </tr>\n",
       "    <tr>\n",
       "      <th>...</th>\n",
       "      <td>...</td>\n",
       "      <td>...</td>\n",
       "      <td>...</td>\n",
       "    </tr>\n",
       "    <tr>\n",
       "      <th>83744</th>\n",
       "      <td>FFFCB2EBE4D59DA2E256396B12F59FB1</td>\n",
       "      <td>summary \\ 1262012 For The Price, Resin Pads Al...</td>\n",
       "      <td>4.941176</td>\n",
       "    </tr>\n",
       "    <tr>\n",
       "      <th>83745</th>\n",
       "      <td>FFFEE00C6052E1A688F4639D650AA50D</td>\n",
       "      <td>summary \\ 593487 Good purchase 593488 Great ba...</td>\n",
       "      <td>4.452381</td>\n",
       "    </tr>\n",
       "    <tr>\n",
       "      <th>83746</th>\n",
       "      <td>FFFEE7703FE466554E6B5F9C21F09297</td>\n",
       "      <td>summary \\ 593764 Cheapo zipper not for me 5937...</td>\n",
       "      <td>4.310345</td>\n",
       "    </tr>\n",
       "    <tr>\n",
       "      <th>83747</th>\n",
       "      <td>FFFF67EAA043C2DB092DBC8934077556</td>\n",
       "      <td>summary \\ 1496788 No specs -- no deal 1496789 ...</td>\n",
       "      <td>4.600000</td>\n",
       "    </tr>\n",
       "    <tr>\n",
       "      <th>83748</th>\n",
       "      <td>FFFF9DFFBC5FB24D6AB70F651206363C</td>\n",
       "      <td>summary \\ 2059205 what can i say 2059206 Crudd...</td>\n",
       "      <td>2.800000</td>\n",
       "    </tr>\n",
       "  </tbody>\n",
       "</table>\n",
       "<p>83749 rows × 3 columns</p>\n",
       "</div>"
      ],
      "text/plain": [
       "                                   asin  \\\n",
       "0      00018C9635D55E22BF157AA13E91226F   \n",
       "1      0001DE3A462B5C5D33AF3BC1053FC20C   \n",
       "2      00022ACC61318C98DA944B9BABD9E5AB   \n",
       "3      0002C8404EBEDA230E4B66A85CEC5503   \n",
       "4      00034EBDF69991833D05B51EE7B11234   \n",
       "...                                 ...   \n",
       "83744  FFFCB2EBE4D59DA2E256396B12F59FB1   \n",
       "83745  FFFEE00C6052E1A688F4639D650AA50D   \n",
       "83746  FFFEE7703FE466554E6B5F9C21F09297   \n",
       "83747  FFFF67EAA043C2DB092DBC8934077556   \n",
       "83748  FFFF9DFFBC5FB24D6AB70F651206363C   \n",
       "\n",
       "                                                       0   overall  \n",
       "0      summary \\ 2045677 Five Stars 2045678 I recomme...  4.090909  \n",
       "1      summary \\ 2142792 Very portable, fairly durabl...  3.909091  \n",
       "2      summary \\ 434812 Great product, poor shipping....  4.698413  \n",
       "3      summary \\ 417817 Small and Cheap 417818 One St...  3.400000  \n",
       "4      summary \\ 91838 Pretty Good 91839 Escrima stic...  4.214286  \n",
       "...                                                  ...       ...  \n",
       "83744  summary \\ 1262012 For The Price, Resin Pads Al...  4.941176  \n",
       "83745  summary \\ 593487 Good purchase 593488 Great ba...  4.452381  \n",
       "83746  summary \\ 593764 Cheapo zipper not for me 5937...  4.310345  \n",
       "83747  summary \\ 1496788 No specs -- no deal 1496789 ...  4.600000  \n",
       "83748  summary \\ 2059205 what can i say 2059206 Crudd...  2.800000  \n",
       "\n",
       "[83749 rows x 3 columns]"
      ]
     },
     "execution_count": 6,
     "metadata": {},
     "output_type": "execute_result"
    }
   ],
   "source": [
    "# merge product mean ratings + aggregated review text\n",
    "final_df = pd.merge(grouped_lists, mean_df, on=\"asin\")\n",
    "final_df"
   ]
  },
  {
   "cell_type": "code",
   "execution_count": 7,
   "metadata": {},
   "outputs": [],
   "source": [
    "# function to use for lambda to categorize as awesome, not awesome\n",
    "def df_iter(overall):\n",
    "    if overall > 4.5:\n",
    "        result = 1.0\n",
    "    else:\n",
    "        result = 0.0\n",
    "        \n",
    "    return result"
   ]
  },
  {
   "cell_type": "code",
   "execution_count": 8,
   "metadata": {
    "scrolled": true
   },
   "outputs": [
    {
     "data": {
      "text/html": [
       "<div>\n",
       "<style scoped>\n",
       "    .dataframe tbody tr th:only-of-type {\n",
       "        vertical-align: middle;\n",
       "    }\n",
       "\n",
       "    .dataframe tbody tr th {\n",
       "        vertical-align: top;\n",
       "    }\n",
       "\n",
       "    .dataframe thead th {\n",
       "        text-align: right;\n",
       "    }\n",
       "</style>\n",
       "<table border=\"1\" class=\"dataframe\">\n",
       "  <thead>\n",
       "    <tr style=\"text-align: right;\">\n",
       "      <th></th>\n",
       "      <th>asin</th>\n",
       "      <th>0</th>\n",
       "      <th>overall</th>\n",
       "      <th>class</th>\n",
       "    </tr>\n",
       "  </thead>\n",
       "  <tbody>\n",
       "    <tr>\n",
       "      <th>0</th>\n",
       "      <td>00018C9635D55E22BF157AA13E91226F</td>\n",
       "      <td>summary \\ 2045677 Five Stars 2045678 I recomme...</td>\n",
       "      <td>4.090909</td>\n",
       "      <td>0.0</td>\n",
       "    </tr>\n",
       "    <tr>\n",
       "      <th>1</th>\n",
       "      <td>0001DE3A462B5C5D33AF3BC1053FC20C</td>\n",
       "      <td>summary \\ 2142792 Very portable, fairly durabl...</td>\n",
       "      <td>3.909091</td>\n",
       "      <td>0.0</td>\n",
       "    </tr>\n",
       "    <tr>\n",
       "      <th>2</th>\n",
       "      <td>00022ACC61318C98DA944B9BABD9E5AB</td>\n",
       "      <td>summary \\ 434812 Great product, poor shipping....</td>\n",
       "      <td>4.698413</td>\n",
       "      <td>1.0</td>\n",
       "    </tr>\n",
       "    <tr>\n",
       "      <th>3</th>\n",
       "      <td>0002C8404EBEDA230E4B66A85CEC5503</td>\n",
       "      <td>summary \\ 417817 Small and Cheap 417818 One St...</td>\n",
       "      <td>3.400000</td>\n",
       "      <td>0.0</td>\n",
       "    </tr>\n",
       "    <tr>\n",
       "      <th>4</th>\n",
       "      <td>00034EBDF69991833D05B51EE7B11234</td>\n",
       "      <td>summary \\ 91838 Pretty Good 91839 Escrima stic...</td>\n",
       "      <td>4.214286</td>\n",
       "      <td>0.0</td>\n",
       "    </tr>\n",
       "    <tr>\n",
       "      <th>...</th>\n",
       "      <td>...</td>\n",
       "      <td>...</td>\n",
       "      <td>...</td>\n",
       "      <td>...</td>\n",
       "    </tr>\n",
       "    <tr>\n",
       "      <th>83744</th>\n",
       "      <td>FFFCB2EBE4D59DA2E256396B12F59FB1</td>\n",
       "      <td>summary \\ 1262012 For The Price, Resin Pads Al...</td>\n",
       "      <td>4.941176</td>\n",
       "      <td>1.0</td>\n",
       "    </tr>\n",
       "    <tr>\n",
       "      <th>83745</th>\n",
       "      <td>FFFEE00C6052E1A688F4639D650AA50D</td>\n",
       "      <td>summary \\ 593487 Good purchase 593488 Great ba...</td>\n",
       "      <td>4.452381</td>\n",
       "      <td>0.0</td>\n",
       "    </tr>\n",
       "    <tr>\n",
       "      <th>83746</th>\n",
       "      <td>FFFEE7703FE466554E6B5F9C21F09297</td>\n",
       "      <td>summary \\ 593764 Cheapo zipper not for me 5937...</td>\n",
       "      <td>4.310345</td>\n",
       "      <td>0.0</td>\n",
       "    </tr>\n",
       "    <tr>\n",
       "      <th>83747</th>\n",
       "      <td>FFFF67EAA043C2DB092DBC8934077556</td>\n",
       "      <td>summary \\ 1496788 No specs -- no deal 1496789 ...</td>\n",
       "      <td>4.600000</td>\n",
       "      <td>1.0</td>\n",
       "    </tr>\n",
       "    <tr>\n",
       "      <th>83748</th>\n",
       "      <td>FFFF9DFFBC5FB24D6AB70F651206363C</td>\n",
       "      <td>summary \\ 2059205 what can i say 2059206 Crudd...</td>\n",
       "      <td>2.800000</td>\n",
       "      <td>0.0</td>\n",
       "    </tr>\n",
       "  </tbody>\n",
       "</table>\n",
       "<p>83749 rows × 4 columns</p>\n",
       "</div>"
      ],
      "text/plain": [
       "                                   asin  \\\n",
       "0      00018C9635D55E22BF157AA13E91226F   \n",
       "1      0001DE3A462B5C5D33AF3BC1053FC20C   \n",
       "2      00022ACC61318C98DA944B9BABD9E5AB   \n",
       "3      0002C8404EBEDA230E4B66A85CEC5503   \n",
       "4      00034EBDF69991833D05B51EE7B11234   \n",
       "...                                 ...   \n",
       "83744  FFFCB2EBE4D59DA2E256396B12F59FB1   \n",
       "83745  FFFEE00C6052E1A688F4639D650AA50D   \n",
       "83746  FFFEE7703FE466554E6B5F9C21F09297   \n",
       "83747  FFFF67EAA043C2DB092DBC8934077556   \n",
       "83748  FFFF9DFFBC5FB24D6AB70F651206363C   \n",
       "\n",
       "                                                       0   overall  class  \n",
       "0      summary \\ 2045677 Five Stars 2045678 I recomme...  4.090909    0.0  \n",
       "1      summary \\ 2142792 Very portable, fairly durabl...  3.909091    0.0  \n",
       "2      summary \\ 434812 Great product, poor shipping....  4.698413    1.0  \n",
       "3      summary \\ 417817 Small and Cheap 417818 One St...  3.400000    0.0  \n",
       "4      summary \\ 91838 Pretty Good 91839 Escrima stic...  4.214286    0.0  \n",
       "...                                                  ...       ...    ...  \n",
       "83744  summary \\ 1262012 For The Price, Resin Pads Al...  4.941176    1.0  \n",
       "83745  summary \\ 593487 Good purchase 593488 Great ba...  4.452381    0.0  \n",
       "83746  summary \\ 593764 Cheapo zipper not for me 5937...  4.310345    0.0  \n",
       "83747  summary \\ 1496788 No specs -- no deal 1496789 ...  4.600000    1.0  \n",
       "83748  summary \\ 2059205 what can i say 2059206 Crudd...  2.800000    0.0  \n",
       "\n",
       "[83749 rows x 4 columns]"
      ]
     },
     "execution_count": 8,
     "metadata": {},
     "output_type": "execute_result"
    }
   ],
   "source": [
    "final_df['class'] = final_df.apply(lambda row: df_iter(row['overall']), axis=1)\n",
    "final_df"
   ]
  },
  {
   "cell_type": "code",
   "execution_count": 21,
   "metadata": {},
   "outputs": [
    {
     "data": {
      "text/plain": [
       "0.0    46668\n",
       "1.0    37081\n",
       "Name: class, dtype: int64"
      ]
     },
     "execution_count": 21,
     "metadata": {},
     "output_type": "execute_result"
    }
   ],
   "source": [
    "# reasonably balanced!\n",
    "final_df['class'].value_counts()"
   ]
  },
  {
   "cell_type": "code",
   "execution_count": 9,
   "metadata": {},
   "outputs": [],
   "source": [
    "stemmer = SnowballStemmer(\"english\", ignore_stopwords=True)\n",
    "stop_words = stopwords.words(\"english\")\n",
    "token = RegexpTokenizer(r'[a-zA-Z0-9]+')\n",
    "cv = CountVectorizer(preprocessor=stemmer.stem, stop_words=stop_words, ngram_range = (1,2), tokenizer=token.tokenize)\n",
    "text_counts = cv.fit_transform(final_df[0])"
   ]
  },
  {
   "cell_type": "code",
   "execution_count": 10,
   "metadata": {},
   "outputs": [],
   "source": [
    "# Splitting the dataset into the Training set and Test set\n",
    "X_train, X_test, y_train, y_test = train_test_split(text_counts, final_df['class'], test_size = 0.25, random_state = 5)"
   ]
  },
  {
   "cell_type": "markdown",
   "metadata": {},
   "source": [
    "This is the improved logistic regression right here"
   ]
  },
  {
   "cell_type": "code",
   "execution_count": 12,
   "metadata": {
    "scrolled": true
   },
   "outputs": [
    {
     "name": "stderr",
     "output_type": "stream",
     "text": [
      "[Parallel(n_jobs=-1)]: Using backend ThreadingBackend with 4 concurrent workers.\n"
     ]
    },
    {
     "name": "stdout",
     "output_type": "stream",
     "text": [
      "convergence after 31 epochs took 16 seconds\n",
      "Accuracy of logistic regression classifier on test set: 0.78\n"
     ]
    },
    {
     "name": "stderr",
     "output_type": "stream",
     "text": [
      "[Parallel(n_jobs=-1)]: Done   1 out of   1 | elapsed:   15.9s finished\n"
     ]
    },
    {
     "name": "stdout",
     "output_type": "stream",
     "text": [
      "Accuracy of logistic regression classifier on test set: 0.79\n",
      "Logistic regression F1: 78.62%\n",
      "              precision    recall  f1-score   support\n",
      "\n",
      "         0.0       0.82      0.79      0.80     11634\n",
      "         1.0       0.75      0.78      0.76      9304\n",
      "\n",
      "    accuracy                           0.79     20938\n",
      "   macro avg       0.78      0.79      0.78     20938\n",
      "weighted avg       0.79      0.79      0.79     20938\n",
      "\n",
      "LR Precision-Recall: 37.26%\n"
     ]
    }
   ],
   "source": [
    "# normal logistic regression\n",
    "logreg = LogisticRegression(penalty='l2', solver='liblinear', max_iter=10000, class_weight='balanced')\n",
    "logreg.fit(X_train, y_train)\n",
    "\n",
    "# Predicting the results, calculating accuracy\n",
    "y_pred = logreg.predict(X_test)\n",
    "print(\"Accuracy of logistic regression classifier on test set: {:.2f}\".format(logreg.score(X_test, y_test)))\n",
    "# Compute F-1, precision, recall\n",
    "f1_score = metrics.f1_score(y_test, y_pred, average='weighted')\n",
    "print('Logistic regression F1: ' + str('{:04.2f}'.format(f1_score*100)) + '%')\n",
    "from sklearn.metrics import classification_report\n",
    "print(classification_report(y_test, y_pred))"
   ]
  },
  {
   "cell_type": "markdown",
   "metadata": {},
   "source": [
    "here's the ***boosting***"
   ]
  },
  {
   "cell_type": "code",
   "execution_count": 23,
   "metadata": {},
   "outputs": [
    {
     "name": "stderr",
     "output_type": "stream",
     "text": [
      "[Parallel(n_jobs=-1)]: Using backend ThreadingBackend with 4 concurrent workers.\n"
     ]
    },
    {
     "name": "stdout",
     "output_type": "stream",
     "text": [
      "convergence after 90 epochs took 48 seconds\n"
     ]
    },
    {
     "name": "stderr",
     "output_type": "stream",
     "text": [
      "[Parallel(n_jobs=-1)]: Done   1 out of   1 | elapsed:   47.8s finished\n",
      "[Parallel(n_jobs=-1)]: Using backend ThreadingBackend with 4 concurrent workers.\n"
     ]
    },
    {
     "name": "stdout",
     "output_type": "stream",
     "text": [
      "convergence after 85 epochs took 46 seconds\n"
     ]
    },
    {
     "name": "stderr",
     "output_type": "stream",
     "text": [
      "[Parallel(n_jobs=-1)]: Done   1 out of   1 | elapsed:   45.3s finished\n",
      "[Parallel(n_jobs=-1)]: Using backend ThreadingBackend with 4 concurrent workers.\n"
     ]
    },
    {
     "name": "stdout",
     "output_type": "stream",
     "text": [
      "convergence after 84 epochs took 44 seconds\n"
     ]
    },
    {
     "name": "stderr",
     "output_type": "stream",
     "text": [
      "[Parallel(n_jobs=-1)]: Done   1 out of   1 | elapsed:   44.2s finished\n",
      "[Parallel(n_jobs=-1)]: Using backend ThreadingBackend with 4 concurrent workers.\n"
     ]
    },
    {
     "name": "stdout",
     "output_type": "stream",
     "text": [
      "convergence after 84 epochs took 44 seconds\n"
     ]
    },
    {
     "name": "stderr",
     "output_type": "stream",
     "text": [
      "[Parallel(n_jobs=-1)]: Done   1 out of   1 | elapsed:   43.8s finished\n",
      "[Parallel(n_jobs=-1)]: Using backend ThreadingBackend with 4 concurrent workers.\n"
     ]
    },
    {
     "name": "stdout",
     "output_type": "stream",
     "text": [
      "convergence after 84 epochs took 45 seconds\n"
     ]
    },
    {
     "name": "stderr",
     "output_type": "stream",
     "text": [
      "[Parallel(n_jobs=-1)]: Done   1 out of   1 | elapsed:   44.3s finished\n"
     ]
    },
    {
     "name": "stdout",
     "output_type": "stream",
     "text": [
      "Logistic regression F1: 27.38%\n",
      "              precision    recall  f1-score   support\n",
      "\n",
      "     awesome       0.44      1.00      0.62      9304\n",
      "         not       1.00      0.00      0.00     11634\n",
      "\n",
      "    accuracy                           0.44     20938\n",
      "   macro avg       0.72      0.50      0.31     20938\n",
      "weighted avg       0.75      0.44      0.27     20938\n",
      "\n"
     ]
    }
   ],
   "source": [
    "# boosted logistic regression\n",
    "logreg = LogisticRegression(penalty='l2',\n",
    "                            solver='saga',\n",
    "                            tol=1e-2,\n",
    "                            max_iter=10000,\n",
    "                            class_weight='balanced',\n",
    "                            verbose=True,\n",
    "                            n_jobs=-1)\n",
    "# logreg.fit(X_train, y_train)\n",
    "boost_logreg = AdaBoostClassifier(logreg,\n",
    "                                  n_estimators=5,\n",
    "                                  learning_rate=1,\n",
    "                                  algorithm='SAMME')\n",
    "boost_logreg.fit(X_train, y_train)\n",
    "\n",
    "# Predicting the results, calculating accuracy\n",
    "y_pred = boost_logreg.predict(X_test)\n",
    "# print(\"Accuracy of logistic regression classifier on test set: {:.2f}\".format(boost_logreg.score(X_test, y_test)))\n",
    "# Compute F-1, precision, recall\n",
    "f1_score = metrics.f1_score(y_test, y_pred, average='weighted')\n",
    "print('Logistic regression F1: ' + str('{:04.2f}'.format(f1_score*100)) + '%')\n",
    "from sklearn.metrics import classification_report\n",
    "print(classification_report(y_test, y_pred))"
   ]
  },
  {
   "cell_type": "code",
   "execution_count": 24,
   "metadata": {},
   "outputs": [
    {
     "data": {
      "text/plain": [
       "{'awesome': 20934, 'not': 4}"
      ]
     },
     "execution_count": 24,
     "metadata": {},
     "output_type": "execute_result"
    }
   ],
   "source": [
    "unique, counts = np.unique(y_pred, return_counts=True)\n",
    "dict(zip(unique, counts))"
   ]
  },
  {
   "cell_type": "code",
   "execution_count": null,
   "metadata": {},
   "outputs": [],
   "source": []
  }
 ],
 "metadata": {
  "kernelspec": {
   "display_name": "Python 3",
   "language": "python",
   "name": "python3"
  },
  "language_info": {
   "codemirror_mode": {
    "name": "ipython",
    "version": 3
   },
   "file_extension": ".py",
   "mimetype": "text/x-python",
   "name": "python",
   "nbconvert_exporter": "python",
   "pygments_lexer": "ipython3",
   "version": "3.6.4"
  }
 },
 "nbformat": 4,
 "nbformat_minor": 4
}
