{
 "cells": [
  {
   "cell_type": "markdown",
   "metadata": {},
   "source": [
    "## Some ideas we've thought of\n",
    "\n",
    "* Google \"how to predict review ratings\" very cool chris\n",
    "* NLTK sentiment analysis\n",
    "* Bag of Words\n",
    "* Naive Bayes\n",
    "* Cleaning and preprocessing data in general"
   ]
  },
  {
   "cell_type": "code",
   "execution_count": null,
   "metadata": {},
   "outputs": [],
   "source": [
    "import pandas as pd"
   ]
  },
  {
   "cell_type": "code",
   "execution_count": 12,
   "metadata": {},
   "outputs": [],
   "source": [
    "df = pd.read_json('data/Sports_and_Outdoors_Reviews_training.json', lines=True)"
   ]
  },
  {
   "cell_type": "code",
   "execution_count": 9,
   "metadata": {},
   "outputs": [
    {
     "data": {
      "text/plain": [
       "'I bought these because I bike to work in Chicago. It has been on average 30 degrees out and my hands go incredibly numb until they hurt. The gloves are nice but just too thin for my purposes.'"
      ]
     },
     "execution_count": 9,
     "metadata": {},
     "output_type": "execute_result"
    }
   ],
   "source": [
    "df.iloc[200].reviewText"
   ]
  },
  {
   "cell_type": "code",
   "execution_count": 11,
   "metadata": {},
   "outputs": [
    {
     "data": {
      "text/plain": [
       "3"
      ]
     },
     "execution_count": 11,
     "metadata": {},
     "output_type": "execute_result"
    }
   ],
   "source": [
    "df.iloc[200].overall # review rating"
   ]
  },
  {
   "cell_type": "code",
   "execution_count": 7,
   "metadata": {},
   "outputs": [],
   "source": [
    "df2 = pd.read_csv('data/Sports_and_Outdoors_Ratings_training.csv')"
   ]
  },
  {
   "cell_type": "code",
   "execution_count": 8,
   "metadata": {},
   "outputs": [
    {
     "data": {
      "text/html": [
       "<div>\n",
       "<style scoped>\n",
       "    .dataframe tbody tr th:only-of-type {\n",
       "        vertical-align: middle;\n",
       "    }\n",
       "\n",
       "    .dataframe tbody tr th {\n",
       "        vertical-align: top;\n",
       "    }\n",
       "\n",
       "    .dataframe thead th {\n",
       "        text-align: right;\n",
       "    }\n",
       "</style>\n",
       "<table border=\"1\" class=\"dataframe\">\n",
       "  <thead>\n",
       "    <tr style=\"text-align: right;\">\n",
       "      <th></th>\n",
       "      <th>asin</th>\n",
       "      <th>reviewerID</th>\n",
       "      <th>overall</th>\n",
       "      <th>unixReviewTime</th>\n",
       "    </tr>\n",
       "  </thead>\n",
       "  <tbody>\n",
       "    <tr>\n",
       "      <th>0</th>\n",
       "      <td>7035535734FCD7F105AB748DB7CAE9B7</td>\n",
       "      <td>41756222A15735525D22C6754FA88AD8</td>\n",
       "      <td>3.0</td>\n",
       "      <td>1414972800</td>\n",
       "    </tr>\n",
       "    <tr>\n",
       "      <th>1</th>\n",
       "      <td>7035535734FCD7F105AB748DB7CAE9B7</td>\n",
       "      <td>FE7C1D4CAD3F33BE27653538FC189878</td>\n",
       "      <td>4.0</td>\n",
       "      <td>1413244800</td>\n",
       "    </tr>\n",
       "    <tr>\n",
       "      <th>2</th>\n",
       "      <td>7035535734FCD7F105AB748DB7CAE9B7</td>\n",
       "      <td>1ED4438FAA9297743B603EBB43E4BB20</td>\n",
       "      <td>2.0</td>\n",
       "      <td>1405382400</td>\n",
       "    </tr>\n",
       "    <tr>\n",
       "      <th>3</th>\n",
       "      <td>7035535734FCD7F105AB748DB7CAE9B7</td>\n",
       "      <td>26AA55DE3215CC8537C6BFC381453640</td>\n",
       "      <td>5.0</td>\n",
       "      <td>1403136000</td>\n",
       "    </tr>\n",
       "    <tr>\n",
       "      <th>4</th>\n",
       "      <td>7035535734FCD7F105AB748DB7CAE9B7</td>\n",
       "      <td>E5F379F62976D685D3600048AA9CFF5F</td>\n",
       "      <td>5.0</td>\n",
       "      <td>1378771200</td>\n",
       "    </tr>\n",
       "    <tr>\n",
       "      <th>...</th>\n",
       "      <td>...</td>\n",
       "      <td>...</td>\n",
       "      <td>...</td>\n",
       "      <td>...</td>\n",
       "    </tr>\n",
       "    <tr>\n",
       "      <th>7998342</th>\n",
       "      <td>92CFCAFE8F021F2CD4CC9FDF8AA3230E</td>\n",
       "      <td>7A3E2232590FDB112418B0FBBAA9B1A4</td>\n",
       "      <td>5.0</td>\n",
       "      <td>1503964800</td>\n",
       "    </tr>\n",
       "    <tr>\n",
       "      <th>7998343</th>\n",
       "      <td>92CFCAFE8F021F2CD4CC9FDF8AA3230E</td>\n",
       "      <td>C4FBD169F8876D8ED80BE73E31615ED3</td>\n",
       "      <td>3.0</td>\n",
       "      <td>1502323200</td>\n",
       "    </tr>\n",
       "    <tr>\n",
       "      <th>7998344</th>\n",
       "      <td>92CFCAFE8F021F2CD4CC9FDF8AA3230E</td>\n",
       "      <td>912F202115E8BCB0724ED46B59E1605F</td>\n",
       "      <td>4.0</td>\n",
       "      <td>1501372800</td>\n",
       "    </tr>\n",
       "    <tr>\n",
       "      <th>7998345</th>\n",
       "      <td>92CFCAFE8F021F2CD4CC9FDF8AA3230E</td>\n",
       "      <td>CF9881FC8E2B1651BA21E93D7EE6CDC1</td>\n",
       "      <td>5.0</td>\n",
       "      <td>1497139200</td>\n",
       "    </tr>\n",
       "    <tr>\n",
       "      <th>7998346</th>\n",
       "      <td>92CFCAFE8F021F2CD4CC9FDF8AA3230E</td>\n",
       "      <td>50C5AA67BD292C52BBD57068BF1FED17</td>\n",
       "      <td>5.0</td>\n",
       "      <td>1496966400</td>\n",
       "    </tr>\n",
       "  </tbody>\n",
       "</table>\n",
       "<p>7998347 rows × 4 columns</p>\n",
       "</div>"
      ],
      "text/plain": [
       "                                     asin                        reviewerID  \\\n",
       "0        7035535734FCD7F105AB748DB7CAE9B7  41756222A15735525D22C6754FA88AD8   \n",
       "1        7035535734FCD7F105AB748DB7CAE9B7  FE7C1D4CAD3F33BE27653538FC189878   \n",
       "2        7035535734FCD7F105AB748DB7CAE9B7  1ED4438FAA9297743B603EBB43E4BB20   \n",
       "3        7035535734FCD7F105AB748DB7CAE9B7  26AA55DE3215CC8537C6BFC381453640   \n",
       "4        7035535734FCD7F105AB748DB7CAE9B7  E5F379F62976D685D3600048AA9CFF5F   \n",
       "...                                   ...                               ...   \n",
       "7998342  92CFCAFE8F021F2CD4CC9FDF8AA3230E  7A3E2232590FDB112418B0FBBAA9B1A4   \n",
       "7998343  92CFCAFE8F021F2CD4CC9FDF8AA3230E  C4FBD169F8876D8ED80BE73E31615ED3   \n",
       "7998344  92CFCAFE8F021F2CD4CC9FDF8AA3230E  912F202115E8BCB0724ED46B59E1605F   \n",
       "7998345  92CFCAFE8F021F2CD4CC9FDF8AA3230E  CF9881FC8E2B1651BA21E93D7EE6CDC1   \n",
       "7998346  92CFCAFE8F021F2CD4CC9FDF8AA3230E  50C5AA67BD292C52BBD57068BF1FED17   \n",
       "\n",
       "         overall  unixReviewTime  \n",
       "0            3.0      1414972800  \n",
       "1            4.0      1413244800  \n",
       "2            2.0      1405382400  \n",
       "3            5.0      1403136000  \n",
       "4            5.0      1378771200  \n",
       "...          ...             ...  \n",
       "7998342      5.0      1503964800  \n",
       "7998343      3.0      1502323200  \n",
       "7998344      4.0      1501372800  \n",
       "7998345      5.0      1497139200  \n",
       "7998346      5.0      1496966400  \n",
       "\n",
       "[7998347 rows x 4 columns]"
      ]
     },
     "execution_count": 8,
     "metadata": {},
     "output_type": "execute_result"
    }
   ],
   "source": [
    "df2"
   ]
  },
  {
   "cell_type": "code",
   "execution_count": null,
   "metadata": {},
   "outputs": [],
   "source": []
  }
 ],
 "metadata": {
  "kernelspec": {
   "display_name": "Python 3",
   "language": "python",
   "name": "python3"
  },
  "language_info": {
   "codemirror_mode": {
    "name": "ipython",
    "version": 3
   },
   "file_extension": ".py",
   "mimetype": "text/x-python",
   "name": "python",
   "nbconvert_exporter": "python",
   "pygments_lexer": "ipython3",
   "version": "3.8.3"
  }
 },
 "nbformat": 4,
 "nbformat_minor": 4
}
