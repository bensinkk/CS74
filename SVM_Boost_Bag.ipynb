{
 "cells": [
  {
   "cell_type": "markdown",
   "metadata": {},
   "source": [
    "## Messing around with some new classifiers"
   ]
  },
  {
   "cell_type": "markdown",
   "metadata": {},
   "source": [
    "## Import Packages"
   ]
  },
  {
   "cell_type": "code",
   "execution_count": 56,
   "metadata": {},
   "outputs": [],
   "source": [
    "import pandas as pd\n",
    "import numpy as np\n",
    "import matplotlib.pyplot as plt\n",
    "import re\n",
    "import nltk\n",
    "\n",
    "from nltk.corpus import stopwords\n",
    "from nltk.stem.snowball import SnowballStemmer\n",
    "from nltk.tokenize import RegexpTokenizer\n",
    "from sklearn.feature_extraction.text import TfidfVectorizer, CountVectorizer\n",
    "from sklearn.model_selection import train_test_split\n",
    "from sklearn.svm import LinearSVC, SVC\n",
    "from sklearn import metrics\n",
    "from sklearn.ensemble import AdaBoostClassifier, BaggingClassifier\n",
    "from sklearn.linear_model import LogisticRegression\n",
    "# also look into SGDClassifier"
   ]
  },
  {
   "cell_type": "markdown",
   "metadata": {},
   "source": [
    "## Loading file"
   ]
  },
  {
   "cell_type": "code",
   "execution_count": 2,
   "metadata": {},
   "outputs": [],
   "source": [
    "df = pd.read_json('data/Sports_and_Outdoors_Reviews_training.json', lines=True)"
   ]
  },
  {
   "cell_type": "code",
   "execution_count": 3,
   "metadata": {},
   "outputs": [],
   "source": [
    "def text_process(text):\n",
    "    text = ' '.join(str(text).split())\n",
    "    return text"
   ]
  },
  {
   "cell_type": "markdown",
   "metadata": {},
   "source": [
    "## group by product and aggregate all the review summary text"
   ]
  },
  {
   "cell_type": "code",
   "execution_count": 4,
   "metadata": {},
   "outputs": [
    {
     "name": "stderr",
     "output_type": "stream",
     "text": [
      "<ipython-input-4-72a4c2da08ef>:2: FutureWarning: Indexing with multiple keys (implicitly converted to a tuple of keys) will be deprecated, use a list instead.\n",
      "  grouped_lists = grouped_df[\"summary\", 'reviewText'].apply(text_process).reset_index()\n"
     ]
    },
    {
     "data": {
      "text/html": [
       "<div>\n",
       "<style scoped>\n",
       "    .dataframe tbody tr th:only-of-type {\n",
       "        vertical-align: middle;\n",
       "    }\n",
       "\n",
       "    .dataframe tbody tr th {\n",
       "        vertical-align: top;\n",
       "    }\n",
       "\n",
       "    .dataframe thead th {\n",
       "        text-align: right;\n",
       "    }\n",
       "</style>\n",
       "<table border=\"1\" class=\"dataframe\">\n",
       "  <thead>\n",
       "    <tr style=\"text-align: right;\">\n",
       "      <th></th>\n",
       "      <th>asin</th>\n",
       "      <th>0</th>\n",
       "    </tr>\n",
       "  </thead>\n",
       "  <tbody>\n",
       "    <tr>\n",
       "      <th>0</th>\n",
       "      <td>00018C9635D55E22BF157AA13E91226F</td>\n",
       "      <td>summary \\ 2045677 Five Stars 2045678 I recomme...</td>\n",
       "    </tr>\n",
       "    <tr>\n",
       "      <th>1</th>\n",
       "      <td>0001DE3A462B5C5D33AF3BC1053FC20C</td>\n",
       "      <td>summary \\ 2142792 Very portable, fairly durabl...</td>\n",
       "    </tr>\n",
       "    <tr>\n",
       "      <th>2</th>\n",
       "      <td>00022ACC61318C98DA944B9BABD9E5AB</td>\n",
       "      <td>summary \\ 434812 Great product, poor shipping....</td>\n",
       "    </tr>\n",
       "    <tr>\n",
       "      <th>3</th>\n",
       "      <td>0002C8404EBEDA230E4B66A85CEC5503</td>\n",
       "      <td>summary \\ 417817 Small and Cheap 417818 One St...</td>\n",
       "    </tr>\n",
       "    <tr>\n",
       "      <th>4</th>\n",
       "      <td>00034EBDF69991833D05B51EE7B11234</td>\n",
       "      <td>summary \\ 91838 Pretty Good 91839 Escrima stic...</td>\n",
       "    </tr>\n",
       "    <tr>\n",
       "      <th>...</th>\n",
       "      <td>...</td>\n",
       "      <td>...</td>\n",
       "    </tr>\n",
       "    <tr>\n",
       "      <th>83744</th>\n",
       "      <td>FFFCB2EBE4D59DA2E256396B12F59FB1</td>\n",
       "      <td>summary \\ 1262012 For The Price, Resin Pads Al...</td>\n",
       "    </tr>\n",
       "    <tr>\n",
       "      <th>83745</th>\n",
       "      <td>FFFEE00C6052E1A688F4639D650AA50D</td>\n",
       "      <td>summary \\ 593487 Good purchase 593488 Great ba...</td>\n",
       "    </tr>\n",
       "    <tr>\n",
       "      <th>83746</th>\n",
       "      <td>FFFEE7703FE466554E6B5F9C21F09297</td>\n",
       "      <td>summary \\ 593764 Cheapo zipper not for me 5937...</td>\n",
       "    </tr>\n",
       "    <tr>\n",
       "      <th>83747</th>\n",
       "      <td>FFFF67EAA043C2DB092DBC8934077556</td>\n",
       "      <td>summary \\ 1496788 No specs -- no deal 1496789 ...</td>\n",
       "    </tr>\n",
       "    <tr>\n",
       "      <th>83748</th>\n",
       "      <td>FFFF9DFFBC5FB24D6AB70F651206363C</td>\n",
       "      <td>summary \\ 2059205 what can i say 2059206 Crudd...</td>\n",
       "    </tr>\n",
       "  </tbody>\n",
       "</table>\n",
       "<p>83749 rows × 2 columns</p>\n",
       "</div>"
      ],
      "text/plain": [
       "                                   asin  \\\n",
       "0      00018C9635D55E22BF157AA13E91226F   \n",
       "1      0001DE3A462B5C5D33AF3BC1053FC20C   \n",
       "2      00022ACC61318C98DA944B9BABD9E5AB   \n",
       "3      0002C8404EBEDA230E4B66A85CEC5503   \n",
       "4      00034EBDF69991833D05B51EE7B11234   \n",
       "...                                 ...   \n",
       "83744  FFFCB2EBE4D59DA2E256396B12F59FB1   \n",
       "83745  FFFEE00C6052E1A688F4639D650AA50D   \n",
       "83746  FFFEE7703FE466554E6B5F9C21F09297   \n",
       "83747  FFFF67EAA043C2DB092DBC8934077556   \n",
       "83748  FFFF9DFFBC5FB24D6AB70F651206363C   \n",
       "\n",
       "                                                       0  \n",
       "0      summary \\ 2045677 Five Stars 2045678 I recomme...  \n",
       "1      summary \\ 2142792 Very portable, fairly durabl...  \n",
       "2      summary \\ 434812 Great product, poor shipping....  \n",
       "3      summary \\ 417817 Small and Cheap 417818 One St...  \n",
       "4      summary \\ 91838 Pretty Good 91839 Escrima stic...  \n",
       "...                                                  ...  \n",
       "83744  summary \\ 1262012 For The Price, Resin Pads Al...  \n",
       "83745  summary \\ 593487 Good purchase 593488 Great ba...  \n",
       "83746  summary \\ 593764 Cheapo zipper not for me 5937...  \n",
       "83747  summary \\ 1496788 No specs -- no deal 1496789 ...  \n",
       "83748  summary \\ 2059205 what can i say 2059206 Crudd...  \n",
       "\n",
       "[83749 rows x 2 columns]"
      ]
     },
     "execution_count": 4,
     "metadata": {},
     "output_type": "execute_result"
    }
   ],
   "source": [
    "grouped_df = df.groupby(\"asin\")\n",
    "grouped_lists = grouped_df[['summary', 'reviewText']].apply(text_process).reset_index()\n",
    "grouped_lists"
   ]
  },
  {
   "cell_type": "markdown",
   "metadata": {},
   "source": [
    "## get the mean of all ratings for a given product"
   ]
  },
  {
   "cell_type": "code",
   "execution_count": 5,
   "metadata": {
    "scrolled": true
   },
   "outputs": [
    {
     "data": {
      "text/html": [
       "<div>\n",
       "<style scoped>\n",
       "    .dataframe tbody tr th:only-of-type {\n",
       "        vertical-align: middle;\n",
       "    }\n",
       "\n",
       "    .dataframe tbody tr th {\n",
       "        vertical-align: top;\n",
       "    }\n",
       "\n",
       "    .dataframe thead th {\n",
       "        text-align: right;\n",
       "    }\n",
       "</style>\n",
       "<table border=\"1\" class=\"dataframe\">\n",
       "  <thead>\n",
       "    <tr style=\"text-align: right;\">\n",
       "      <th></th>\n",
       "      <th>asin</th>\n",
       "      <th>overall</th>\n",
       "    </tr>\n",
       "  </thead>\n",
       "  <tbody>\n",
       "    <tr>\n",
       "      <th>0</th>\n",
       "      <td>00018C9635D55E22BF157AA13E91226F</td>\n",
       "      <td>4.090909</td>\n",
       "    </tr>\n",
       "    <tr>\n",
       "      <th>1</th>\n",
       "      <td>0001DE3A462B5C5D33AF3BC1053FC20C</td>\n",
       "      <td>3.909091</td>\n",
       "    </tr>\n",
       "    <tr>\n",
       "      <th>2</th>\n",
       "      <td>00022ACC61318C98DA944B9BABD9E5AB</td>\n",
       "      <td>4.698413</td>\n",
       "    </tr>\n",
       "    <tr>\n",
       "      <th>3</th>\n",
       "      <td>0002C8404EBEDA230E4B66A85CEC5503</td>\n",
       "      <td>3.400000</td>\n",
       "    </tr>\n",
       "    <tr>\n",
       "      <th>4</th>\n",
       "      <td>00034EBDF69991833D05B51EE7B11234</td>\n",
       "      <td>4.214286</td>\n",
       "    </tr>\n",
       "    <tr>\n",
       "      <th>...</th>\n",
       "      <td>...</td>\n",
       "      <td>...</td>\n",
       "    </tr>\n",
       "    <tr>\n",
       "      <th>83744</th>\n",
       "      <td>FFFCB2EBE4D59DA2E256396B12F59FB1</td>\n",
       "      <td>4.941176</td>\n",
       "    </tr>\n",
       "    <tr>\n",
       "      <th>83745</th>\n",
       "      <td>FFFEE00C6052E1A688F4639D650AA50D</td>\n",
       "      <td>4.452381</td>\n",
       "    </tr>\n",
       "    <tr>\n",
       "      <th>83746</th>\n",
       "      <td>FFFEE7703FE466554E6B5F9C21F09297</td>\n",
       "      <td>4.310345</td>\n",
       "    </tr>\n",
       "    <tr>\n",
       "      <th>83747</th>\n",
       "      <td>FFFF67EAA043C2DB092DBC8934077556</td>\n",
       "      <td>4.600000</td>\n",
       "    </tr>\n",
       "    <tr>\n",
       "      <th>83748</th>\n",
       "      <td>FFFF9DFFBC5FB24D6AB70F651206363C</td>\n",
       "      <td>2.800000</td>\n",
       "    </tr>\n",
       "  </tbody>\n",
       "</table>\n",
       "<p>83749 rows × 2 columns</p>\n",
       "</div>"
      ],
      "text/plain": [
       "                                   asin   overall\n",
       "0      00018C9635D55E22BF157AA13E91226F  4.090909\n",
       "1      0001DE3A462B5C5D33AF3BC1053FC20C  3.909091\n",
       "2      00022ACC61318C98DA944B9BABD9E5AB  4.698413\n",
       "3      0002C8404EBEDA230E4B66A85CEC5503  3.400000\n",
       "4      00034EBDF69991833D05B51EE7B11234  4.214286\n",
       "...                                 ...       ...\n",
       "83744  FFFCB2EBE4D59DA2E256396B12F59FB1  4.941176\n",
       "83745  FFFEE00C6052E1A688F4639D650AA50D  4.452381\n",
       "83746  FFFEE7703FE466554E6B5F9C21F09297  4.310345\n",
       "83747  FFFF67EAA043C2DB092DBC8934077556  4.600000\n",
       "83748  FFFF9DFFBC5FB24D6AB70F651206363C  2.800000\n",
       "\n",
       "[83749 rows x 2 columns]"
      ]
     },
     "execution_count": 5,
     "metadata": {},
     "output_type": "execute_result"
    }
   ],
   "source": [
    "mean_df = grouped_df['overall'].mean()\n",
    "mean_df = mean_df.reset_index()\n",
    "mean_df"
   ]
  },
  {
   "cell_type": "markdown",
   "metadata": {},
   "source": [
    "## merge product mean ratings + aggregated review summary text"
   ]
  },
  {
   "cell_type": "code",
   "execution_count": 6,
   "metadata": {},
   "outputs": [
    {
     "data": {
      "text/html": [
       "<div>\n",
       "<style scoped>\n",
       "    .dataframe tbody tr th:only-of-type {\n",
       "        vertical-align: middle;\n",
       "    }\n",
       "\n",
       "    .dataframe tbody tr th {\n",
       "        vertical-align: top;\n",
       "    }\n",
       "\n",
       "    .dataframe thead th {\n",
       "        text-align: right;\n",
       "    }\n",
       "</style>\n",
       "<table border=\"1\" class=\"dataframe\">\n",
       "  <thead>\n",
       "    <tr style=\"text-align: right;\">\n",
       "      <th></th>\n",
       "      <th>asin</th>\n",
       "      <th>0</th>\n",
       "      <th>overall</th>\n",
       "    </tr>\n",
       "  </thead>\n",
       "  <tbody>\n",
       "    <tr>\n",
       "      <th>0</th>\n",
       "      <td>00018C9635D55E22BF157AA13E91226F</td>\n",
       "      <td>summary \\ 2045677 Five Stars 2045678 I recomme...</td>\n",
       "      <td>4.090909</td>\n",
       "    </tr>\n",
       "    <tr>\n",
       "      <th>1</th>\n",
       "      <td>0001DE3A462B5C5D33AF3BC1053FC20C</td>\n",
       "      <td>summary \\ 2142792 Very portable, fairly durabl...</td>\n",
       "      <td>3.909091</td>\n",
       "    </tr>\n",
       "    <tr>\n",
       "      <th>2</th>\n",
       "      <td>00022ACC61318C98DA944B9BABD9E5AB</td>\n",
       "      <td>summary \\ 434812 Great product, poor shipping....</td>\n",
       "      <td>4.698413</td>\n",
       "    </tr>\n",
       "    <tr>\n",
       "      <th>3</th>\n",
       "      <td>0002C8404EBEDA230E4B66A85CEC5503</td>\n",
       "      <td>summary \\ 417817 Small and Cheap 417818 One St...</td>\n",
       "      <td>3.400000</td>\n",
       "    </tr>\n",
       "    <tr>\n",
       "      <th>4</th>\n",
       "      <td>00034EBDF69991833D05B51EE7B11234</td>\n",
       "      <td>summary \\ 91838 Pretty Good 91839 Escrima stic...</td>\n",
       "      <td>4.214286</td>\n",
       "    </tr>\n",
       "    <tr>\n",
       "      <th>...</th>\n",
       "      <td>...</td>\n",
       "      <td>...</td>\n",
       "      <td>...</td>\n",
       "    </tr>\n",
       "    <tr>\n",
       "      <th>83744</th>\n",
       "      <td>FFFCB2EBE4D59DA2E256396B12F59FB1</td>\n",
       "      <td>summary \\ 1262012 For The Price, Resin Pads Al...</td>\n",
       "      <td>4.941176</td>\n",
       "    </tr>\n",
       "    <tr>\n",
       "      <th>83745</th>\n",
       "      <td>FFFEE00C6052E1A688F4639D650AA50D</td>\n",
       "      <td>summary \\ 593487 Good purchase 593488 Great ba...</td>\n",
       "      <td>4.452381</td>\n",
       "    </tr>\n",
       "    <tr>\n",
       "      <th>83746</th>\n",
       "      <td>FFFEE7703FE466554E6B5F9C21F09297</td>\n",
       "      <td>summary \\ 593764 Cheapo zipper not for me 5937...</td>\n",
       "      <td>4.310345</td>\n",
       "    </tr>\n",
       "    <tr>\n",
       "      <th>83747</th>\n",
       "      <td>FFFF67EAA043C2DB092DBC8934077556</td>\n",
       "      <td>summary \\ 1496788 No specs -- no deal 1496789 ...</td>\n",
       "      <td>4.600000</td>\n",
       "    </tr>\n",
       "    <tr>\n",
       "      <th>83748</th>\n",
       "      <td>FFFF9DFFBC5FB24D6AB70F651206363C</td>\n",
       "      <td>summary \\ 2059205 what can i say 2059206 Crudd...</td>\n",
       "      <td>2.800000</td>\n",
       "    </tr>\n",
       "  </tbody>\n",
       "</table>\n",
       "<p>83749 rows × 3 columns</p>\n",
       "</div>"
      ],
      "text/plain": [
       "                                   asin  \\\n",
       "0      00018C9635D55E22BF157AA13E91226F   \n",
       "1      0001DE3A462B5C5D33AF3BC1053FC20C   \n",
       "2      00022ACC61318C98DA944B9BABD9E5AB   \n",
       "3      0002C8404EBEDA230E4B66A85CEC5503   \n",
       "4      00034EBDF69991833D05B51EE7B11234   \n",
       "...                                 ...   \n",
       "83744  FFFCB2EBE4D59DA2E256396B12F59FB1   \n",
       "83745  FFFEE00C6052E1A688F4639D650AA50D   \n",
       "83746  FFFEE7703FE466554E6B5F9C21F09297   \n",
       "83747  FFFF67EAA043C2DB092DBC8934077556   \n",
       "83748  FFFF9DFFBC5FB24D6AB70F651206363C   \n",
       "\n",
       "                                                       0   overall  \n",
       "0      summary \\ 2045677 Five Stars 2045678 I recomme...  4.090909  \n",
       "1      summary \\ 2142792 Very portable, fairly durabl...  3.909091  \n",
       "2      summary \\ 434812 Great product, poor shipping....  4.698413  \n",
       "3      summary \\ 417817 Small and Cheap 417818 One St...  3.400000  \n",
       "4      summary \\ 91838 Pretty Good 91839 Escrima stic...  4.214286  \n",
       "...                                                  ...       ...  \n",
       "83744  summary \\ 1262012 For The Price, Resin Pads Al...  4.941176  \n",
       "83745  summary \\ 593487 Good purchase 593488 Great ba...  4.452381  \n",
       "83746  summary \\ 593764 Cheapo zipper not for me 5937...  4.310345  \n",
       "83747  summary \\ 1496788 No specs -- no deal 1496789 ...  4.600000  \n",
       "83748  summary \\ 2059205 what can i say 2059206 Crudd...  2.800000  \n",
       "\n",
       "[83749 rows x 3 columns]"
      ]
     },
     "execution_count": 6,
     "metadata": {},
     "output_type": "execute_result"
    }
   ],
   "source": [
    "final_df = pd.merge(grouped_lists, mean_df, on=\"asin\")\n",
    "final_df"
   ]
  },
  {
   "cell_type": "markdown",
   "metadata": {},
   "source": [
    "## classify as awesome/not"
   ]
  },
  {
   "cell_type": "code",
   "execution_count": 7,
   "metadata": {},
   "outputs": [],
   "source": [
    "# function to use for lambda to categorize as awesome, not awesome\n",
    "def df_iter(overall):\n",
    "    if overall > 4.5:\n",
    "        result = 'awesome'\n",
    "    else:\n",
    "        result = 'not'\n",
    "        \n",
    "    return result"
   ]
  },
  {
   "cell_type": "code",
   "execution_count": 8,
   "metadata": {},
   "outputs": [
    {
     "data": {
      "text/html": [
       "<div>\n",
       "<style scoped>\n",
       "    .dataframe tbody tr th:only-of-type {\n",
       "        vertical-align: middle;\n",
       "    }\n",
       "\n",
       "    .dataframe tbody tr th {\n",
       "        vertical-align: top;\n",
       "    }\n",
       "\n",
       "    .dataframe thead th {\n",
       "        text-align: right;\n",
       "    }\n",
       "</style>\n",
       "<table border=\"1\" class=\"dataframe\">\n",
       "  <thead>\n",
       "    <tr style=\"text-align: right;\">\n",
       "      <th></th>\n",
       "      <th>asin</th>\n",
       "      <th>0</th>\n",
       "      <th>overall</th>\n",
       "      <th>class</th>\n",
       "    </tr>\n",
       "  </thead>\n",
       "  <tbody>\n",
       "    <tr>\n",
       "      <th>0</th>\n",
       "      <td>00018C9635D55E22BF157AA13E91226F</td>\n",
       "      <td>summary \\ 2045677 Five Stars 2045678 I recomme...</td>\n",
       "      <td>4.090909</td>\n",
       "      <td>not</td>\n",
       "    </tr>\n",
       "    <tr>\n",
       "      <th>1</th>\n",
       "      <td>0001DE3A462B5C5D33AF3BC1053FC20C</td>\n",
       "      <td>summary \\ 2142792 Very portable, fairly durabl...</td>\n",
       "      <td>3.909091</td>\n",
       "      <td>not</td>\n",
       "    </tr>\n",
       "    <tr>\n",
       "      <th>2</th>\n",
       "      <td>00022ACC61318C98DA944B9BABD9E5AB</td>\n",
       "      <td>summary \\ 434812 Great product, poor shipping....</td>\n",
       "      <td>4.698413</td>\n",
       "      <td>awesome</td>\n",
       "    </tr>\n",
       "    <tr>\n",
       "      <th>3</th>\n",
       "      <td>0002C8404EBEDA230E4B66A85CEC5503</td>\n",
       "      <td>summary \\ 417817 Small and Cheap 417818 One St...</td>\n",
       "      <td>3.400000</td>\n",
       "      <td>not</td>\n",
       "    </tr>\n",
       "    <tr>\n",
       "      <th>4</th>\n",
       "      <td>00034EBDF69991833D05B51EE7B11234</td>\n",
       "      <td>summary \\ 91838 Pretty Good 91839 Escrima stic...</td>\n",
       "      <td>4.214286</td>\n",
       "      <td>not</td>\n",
       "    </tr>\n",
       "    <tr>\n",
       "      <th>...</th>\n",
       "      <td>...</td>\n",
       "      <td>...</td>\n",
       "      <td>...</td>\n",
       "      <td>...</td>\n",
       "    </tr>\n",
       "    <tr>\n",
       "      <th>83744</th>\n",
       "      <td>FFFCB2EBE4D59DA2E256396B12F59FB1</td>\n",
       "      <td>summary \\ 1262012 For The Price, Resin Pads Al...</td>\n",
       "      <td>4.941176</td>\n",
       "      <td>awesome</td>\n",
       "    </tr>\n",
       "    <tr>\n",
       "      <th>83745</th>\n",
       "      <td>FFFEE00C6052E1A688F4639D650AA50D</td>\n",
       "      <td>summary \\ 593487 Good purchase 593488 Great ba...</td>\n",
       "      <td>4.452381</td>\n",
       "      <td>not</td>\n",
       "    </tr>\n",
       "    <tr>\n",
       "      <th>83746</th>\n",
       "      <td>FFFEE7703FE466554E6B5F9C21F09297</td>\n",
       "      <td>summary \\ 593764 Cheapo zipper not for me 5937...</td>\n",
       "      <td>4.310345</td>\n",
       "      <td>not</td>\n",
       "    </tr>\n",
       "    <tr>\n",
       "      <th>83747</th>\n",
       "      <td>FFFF67EAA043C2DB092DBC8934077556</td>\n",
       "      <td>summary \\ 1496788 No specs -- no deal 1496789 ...</td>\n",
       "      <td>4.600000</td>\n",
       "      <td>awesome</td>\n",
       "    </tr>\n",
       "    <tr>\n",
       "      <th>83748</th>\n",
       "      <td>FFFF9DFFBC5FB24D6AB70F651206363C</td>\n",
       "      <td>summary \\ 2059205 what can i say 2059206 Crudd...</td>\n",
       "      <td>2.800000</td>\n",
       "      <td>not</td>\n",
       "    </tr>\n",
       "  </tbody>\n",
       "</table>\n",
       "<p>83749 rows × 4 columns</p>\n",
       "</div>"
      ],
      "text/plain": [
       "                                   asin  \\\n",
       "0      00018C9635D55E22BF157AA13E91226F   \n",
       "1      0001DE3A462B5C5D33AF3BC1053FC20C   \n",
       "2      00022ACC61318C98DA944B9BABD9E5AB   \n",
       "3      0002C8404EBEDA230E4B66A85CEC5503   \n",
       "4      00034EBDF69991833D05B51EE7B11234   \n",
       "...                                 ...   \n",
       "83744  FFFCB2EBE4D59DA2E256396B12F59FB1   \n",
       "83745  FFFEE00C6052E1A688F4639D650AA50D   \n",
       "83746  FFFEE7703FE466554E6B5F9C21F09297   \n",
       "83747  FFFF67EAA043C2DB092DBC8934077556   \n",
       "83748  FFFF9DFFBC5FB24D6AB70F651206363C   \n",
       "\n",
       "                                                       0   overall    class  \n",
       "0      summary \\ 2045677 Five Stars 2045678 I recomme...  4.090909      not  \n",
       "1      summary \\ 2142792 Very portable, fairly durabl...  3.909091      not  \n",
       "2      summary \\ 434812 Great product, poor shipping....  4.698413  awesome  \n",
       "3      summary \\ 417817 Small and Cheap 417818 One St...  3.400000      not  \n",
       "4      summary \\ 91838 Pretty Good 91839 Escrima stic...  4.214286      not  \n",
       "...                                                  ...       ...      ...  \n",
       "83744  summary \\ 1262012 For The Price, Resin Pads Al...  4.941176  awesome  \n",
       "83745  summary \\ 593487 Good purchase 593488 Great ba...  4.452381      not  \n",
       "83746  summary \\ 593764 Cheapo zipper not for me 5937...  4.310345      not  \n",
       "83747  summary \\ 1496788 No specs -- no deal 1496789 ...  4.600000  awesome  \n",
       "83748  summary \\ 2059205 what can i say 2059206 Crudd...  2.800000      not  \n",
       "\n",
       "[83749 rows x 4 columns]"
      ]
     },
     "execution_count": 8,
     "metadata": {},
     "output_type": "execute_result"
    }
   ],
   "source": [
    "final_df['class'] = final_df.apply(lambda row: df_iter(row['overall']), axis=1)\n",
    "final_df"
   ]
  },
  {
   "cell_type": "code",
   "execution_count": 9,
   "metadata": {},
   "outputs": [
    {
     "data": {
      "text/plain": [
       "not        46668\n",
       "awesome    37081\n",
       "Name: class, dtype: int64"
      ]
     },
     "execution_count": 9,
     "metadata": {},
     "output_type": "execute_result"
    }
   ],
   "source": [
    "# reasonably balanced!\n",
    "final_df['class'].value_counts()"
   ]
  },
  {
   "cell_type": "markdown",
   "metadata": {},
   "source": [
    "## Prep + vectorize text, feed into SVC classifier"
   ]
  },
  {
   "cell_type": "code",
   "execution_count": 28,
   "metadata": {},
   "outputs": [],
   "source": [
    "stemmer = SnowballStemmer(\"english\", ignore_stopwords=True)\n",
    "stop_words = stopwords.words(\"english\")\n",
    "token = RegexpTokenizer(r'[a-zA-Z0-9]+')\n",
    "cv = CountVectorizer(preprocessor=stemmer.stem, stop_words=stop_words, ngram_range = (1,2), tokenizer=token.tokenize)\n",
    "text_counts = cv.fit_transform(final_df[0])"
   ]
  },
  {
   "cell_type": "code",
   "execution_count": null,
   "metadata": {},
   "outputs": [],
   "source": [
    "# PICK N CHOOSE BETWEEN TFIDF AND COUNT\n",
    "tv = TfidfVectorizer(preprocessor=stemmer.stem, stop_words=stop_words, ngram_range = (1,3), tokenizer=token.tokenize)\n",
    "text_counts = tv.fit_transform(final_df[0])"
   ]
  },
  {
   "cell_type": "code",
   "execution_count": 11,
   "metadata": {},
   "outputs": [],
   "source": [
    "# Splitting the dataset into the Training set and Test set\n",
    "X_train, X_test, y_train, y_test = train_test_split(text_counts, final_df['class'], test_size = 0.25, random_state = 5)"
   ]
  },
  {
   "cell_type": "markdown",
   "metadata": {},
   "source": [
    "This next one is horrible don't do it"
   ]
  },
  {
   "cell_type": "code",
   "execution_count": 14,
   "metadata": {},
   "outputs": [],
   "source": [
    "#Basic SVC (much slower but more options)\n",
    "SVC_classifier = SVC(kernel='poly', degree=3)#,class_weight='balanced')\n",
    "SVC_classifier.fit(X_train, y_train)\n",
    "y_score = SVC_classifier.decision_function(X_test)\n",
    "y_pred_SVC = SVC_classifier.predict(X_test)"
   ]
  },
  {
   "cell_type": "code",
   "execution_count": 11,
   "metadata": {},
   "outputs": [],
   "source": [
    "#Strictly Linear SVC (v fast but not many options)\n",
    "SVC_classifier = LinearSVC()\n",
    "SVC_classifier.fit(X_train, y_train)\n",
    "y_score = SVC_classifier.decision_function(X_test)\n",
    "y_pred_SVC = SVC_classifier.predict(X_test)\n",
    "\n",
    "f1_score_SVC = metrics.f1_score(y_test, y_pred_SVC, average='weighted')\n",
    "auc_score_SVC = metrics.roc_auc_score(y_test, y_score, average='weighted', labels=[\"not\",\"awesome\"])\n",
    "precision_score_SVC = metrics.average_precision_score(y_test, y_score, average='weighted', pos_label=\"not\")\n",
    "\n",
    "print('SVC F1: ' + str('{:04.2f}'.format(f1_score_SVC*100)) + '%')\n",
    "print('SVC Precision-Recall: ' + str('{:04.2f}'.format(precision_score_SVC*100)) + '%')\n",
    "print('SVC AUC: ' + str('{:04.2f}'.format(auc_score_SVC*100)) + '%')"
   ]
  },
  {
   "cell_type": "markdown",
   "metadata": {},
   "source": [
    "#### NEW STUFF"
   ]
  },
  {
   "cell_type": "code",
   "execution_count": 54,
   "metadata": {},
   "outputs": [],
   "source": [
    "#AdaBoost with linear SVC\n",
    "boost_classifier = AdaBoostClassifier(LinearSVC(loss='squared_hinge'),\n",
    "                                      algorithm='SAMME',\n",
    "                                      learning_rate=0.125,\n",
    "                                      n_estimators=200)\n",
    "boost_classifier.fit(X_train, y_train)\n",
    "y_score = boost_classifier.decision_function(X_test)\n",
    "y_pred_boost = boost_classifier.predict(X_test)"
   ]
  },
  {
   "cell_type": "code",
   "execution_count": 55,
   "metadata": {},
   "outputs": [
    {
     "name": "stdout",
     "output_type": "stream",
     "text": [
      "Boosted SVC F1: 78.40%\n",
      "Boosted SVC Precision-Recall: 89.80%\n"
     ]
    }
   ],
   "source": [
    "# checking AdaBoost accuracy\n",
    "f1_score_boost = metrics.f1_score(y_test, y_pred_boost, average='weighted')\n",
    "precision_score_boost = metrics.average_precision_score(y_test, y_score, average='weighted', pos_label=\"not\")\n",
    "\n",
    "print('Boosted SVC F1: ' + str('{:04.2f}'.format(f1_score_boost*100)) + '%')\n",
    "print('Boosted SVC Precision-Recall: ' + str('{:04.2f}'.format(precision_score_boost*100)) + '%')"
   ]
  },
  {
   "cell_type": "code",
   "execution_count": 52,
   "metadata": {},
   "outputs": [],
   "source": [
    "#Bagging with linear SVC\n",
    "bag_classifier = BaggingClassifier(base_estimator=LinearSVC(loss='hinge'),\n",
    "                                   max_samples=0.4,\n",
    "                                   n_estimators=100)\n",
    "bag_classifier.fit(X_train, y_train)\n",
    "y_score = bag_classifier.decision_function(X_test)\n",
    "y_pred_bag = bag_classifier.predict(X_test)"
   ]
  },
  {
   "cell_type": "code",
   "execution_count": 53,
   "metadata": {},
   "outputs": [
    {
     "name": "stdout",
     "output_type": "stream",
     "text": [
      "Boosted SVC F1: 78.28%\n",
      "Boosted SVC Precision-Recall: 89.36%\n"
     ]
    }
   ],
   "source": [
    "# checking bagging accuracy\n",
    "f1_score_bag = metrics.f1_score(y_test, y_pred_bag, average='weighted')\n",
    "precision_score_bag = metrics.average_precision_score(y_test, y_score, average='weighted', pos_label=\"not\")\n",
    "\n",
    "print('Boosted SVC F1: ' + str('{:04.2f}'.format(f1_score_bag*100)) + '%')\n",
    "print('Boosted SVC Precision-Recall: ' + str('{:04.2f}'.format(precision_score_bag*100)) + '%')"
   ]
  },
  {
   "cell_type": "code",
   "execution_count": null,
   "metadata": {},
   "outputs": [],
   "source": [
    "#Bagging with logistic regression\n",
    "# bag_classifier = BaggingClassifier(base_estimator=LogisticRegression(penalty='l2', solver='sag', max_iter=10000),\n",
    "#                                    max_samples=0.4,\n",
    "#                                    n_estimators=100)\n",
    "# bag_classifier.fit(X_train, y_train)\n",
    "# y_score = bag_classifier.decision_function(X_test)\n",
    "# y_pred_bag = bag_classifier.predict(X_test)"
   ]
  },
  {
   "cell_type": "code",
   "execution_count": null,
   "metadata": {},
   "outputs": [],
   "source": [
    "# checking accuracy\n",
    "# f1_score_bag = metrics.f1_score(y_test, y_pred_bag, average='weighted')\n",
    "# precision_score_bag = metrics.average_precision_score(y_test, y_score, average='weighted', pos_label=\"not\")\n",
    "\n",
    "# print('Bagged LR F1: ' + str('{:04.2f}'.format(f1_score_bag*100)) + '%')\n",
    "# print('Bagged LR Precision-Recall: ' + str('{:04.2f}'.format(precision_score_bag*100)) + '%')"
   ]
  },
  {
   "cell_type": "markdown",
   "metadata": {},
   "source": [
    "## k-means cross validation (I didn't touch anything after this)"
   ]
  },
  {
   "cell_type": "code",
   "execution_count": 30,
   "metadata": {
    "scrolled": true
   },
   "outputs": [
    {
     "name": "stdout",
     "output_type": "stream",
     "text": [
      "Group 1\n",
      "SVC F1: 78.44%\n",
      "SVC Precision-Recall AUC: 89.43%\n",
      "\n",
      "Group 2\n",
      "SVC F1: 78.87%\n",
      "SVC Precision-Recall AUC: 89.82%\n",
      "\n",
      "Group 3\n",
      "SVC F1: 77.94%\n",
      "SVC Precision-Recall AUC: 89.11%\n",
      "\n",
      "Group 4\n",
      "SVC F1: 78.87%\n",
      "SVC Precision-Recall AUC: 89.83%\n",
      "\n",
      "Group 5\n",
      "SVC F1: 78.65%\n",
      "SVC Precision-Recall AUC: 89.63%\n",
      "\n",
      "F1 average: 78.55%\n",
      "Precision-Recall AUC average: 89.57%\n"
     ]
    }
   ],
   "source": [
    "# splitting data for testing and training to see how well model performs\n",
    "\n",
    "SVC_classifier = LinearSVC()\n",
    "from sklearn.model_selection import StratifiedShuffleSplit\n",
    "from statistics import mean\n",
    "sss = StratifiedShuffleSplit(n_splits=5, test_size=0.2, random_state=5)\n",
    "# X_train, X_test, Y_train, Y_test = train_test_split(text_counts, df_sorted['overall'], test_size = 0.25, random_state = 5)\n",
    "count = 1\n",
    "X = text_counts\n",
    "y = final_df['class']\n",
    "f1_scores, auc_scores = list(), list()\n",
    "for train_idx, test_idx in sss.split(X, y):\n",
    "    print (\"Group\" , count)\n",
    "    count += 1\n",
    "    X_train, X_test, y_train, y_test = X[train_idx], X[test_idx], y[train_idx], y[test_idx]\n",
    "    SVC_classifier.fit(X_train, y_train)\n",
    "    y_score = SVC_classifier.decision_function(X_test)\n",
    "    y_pred_SVC = SVC_classifier.predict(X_test)\n",
    "    # checking accuracy\n",
    "    f1_score_SVC = metrics.f1_score(y_test, y_pred_SVC, average='weighted')\n",
    "    precision_score_SVC = metrics.average_precision_score(y_test, y_score, average='weighted', pos_label=\"not\")\n",
    "    \n",
    "    f1_scores.append(f1_score_SVC)\n",
    "    auc_scores.append(precision_score_SVC)\n",
    "    \n",
    "    print('SVC F1: ' + str('{:04.2f}'.format(f1_score_SVC*100)) + '%')\n",
    "    print('SVC Precision-Recall AUC: ' + str('{:04.2f}'.format(precision_score_SVC*100)) + '%')\n",
    "    print()\n",
    "print('F1 average: ' + str('{:04.2f}'.format(mean(f1_scores)*100)) + '%')\n",
    "print('Precision-Recall AUC average: ' + str('{:04.2f}'.format(mean(auc_scores)*100)) + '%')\n",
    "\n"
   ]
  },
  {
   "cell_type": "markdown",
   "metadata": {},
   "source": [
    "# Predictions on Test Dataset"
   ]
  },
  {
   "cell_type": "code",
   "execution_count": 40,
   "metadata": {},
   "outputs": [],
   "source": [
    "# Read in raw data\n",
    "test_df = pd.read_json('data/Sports_and_Outdoors_Reviews_test.json', lines=True)\n",
    "\n",
    "group_df = test_df.groupby(\"asin\")\n",
    "group_lists = group_df[\"summary\"].apply(text_process).reset_index()\n",
    "\n",
    "test_counts = cv.transform(group_lists['summary'])"
   ]
  },
  {
   "cell_type": "code",
   "execution_count": 41,
   "metadata": {},
   "outputs": [
    {
     "data": {
      "text/html": [
       "<div>\n",
       "<style scoped>\n",
       "    .dataframe tbody tr th:only-of-type {\n",
       "        vertical-align: middle;\n",
       "    }\n",
       "\n",
       "    .dataframe tbody tr th {\n",
       "        vertical-align: top;\n",
       "    }\n",
       "\n",
       "    .dataframe thead th {\n",
       "        text-align: right;\n",
       "    }\n",
       "</style>\n",
       "<table border=\"1\" class=\"dataframe\">\n",
       "  <thead>\n",
       "    <tr style=\"text-align: right;\">\n",
       "      <th></th>\n",
       "      <th>asin</th>\n",
       "      <th>summary</th>\n",
       "      <th>predictions</th>\n",
       "    </tr>\n",
       "  </thead>\n",
       "  <tbody>\n",
       "    <tr>\n",
       "      <th>0</th>\n",
       "      <td>00001378E0675643F36F8B5147FDA6D0</td>\n",
       "      <td>158023 Awesome Product 158024 very nice rifle ...</td>\n",
       "      <td>awesome</td>\n",
       "    </tr>\n",
       "    <tr>\n",
       "      <th>1</th>\n",
       "      <td>00010FEA8BF06921C276FE4DB4B63AB2</td>\n",
       "      <td>151462 actually fits the Governor and makes ca...</td>\n",
       "      <td>awesome</td>\n",
       "    </tr>\n",
       "    <tr>\n",
       "      <th>2</th>\n",
       "      <td>0001DCCBFABAC9E1073A1F87A393E5BA</td>\n",
       "      <td>464277 One of the best options out there for m...</td>\n",
       "      <td>awesome</td>\n",
       "    </tr>\n",
       "    <tr>\n",
       "      <th>3</th>\n",
       "      <td>0003494756240B4FC0579229A91398F7</td>\n",
       "      <td>284314 Fun at the range. 284315 Great fun 2843...</td>\n",
       "      <td>not</td>\n",
       "    </tr>\n",
       "    <tr>\n",
       "      <th>4</th>\n",
       "      <td>00064AD7C050018B509A034445C74890</td>\n",
       "      <td>177600 Tackiest grip ever 177601 Sure Hands 17...</td>\n",
       "      <td>awesome</td>\n",
       "    </tr>\n",
       "    <tr>\n",
       "      <th>...</th>\n",
       "      <td>...</td>\n",
       "      <td>...</td>\n",
       "      <td>...</td>\n",
       "    </tr>\n",
       "    <tr>\n",
       "      <th>20933</th>\n",
       "      <td>FFE4079FBEC0377CA942C4C3E3FDB127</td>\n",
       "      <td>330833 Kid's snorkel vest. 330834 Couldn't blo...</td>\n",
       "      <td>not</td>\n",
       "    </tr>\n",
       "    <tr>\n",
       "      <th>20934</th>\n",
       "      <td>FFE64F533026658E64520B5F50C3338D</td>\n",
       "      <td>344744 I don't know that my 4 yr old nephew wo...</td>\n",
       "      <td>not</td>\n",
       "    </tr>\n",
       "    <tr>\n",
       "      <th>20935</th>\n",
       "      <td>FFE8D7BE871372F0FBD09DB5C962E335</td>\n",
       "      <td>58975 Five Stars 58976 Two Stars 58977 Four St...</td>\n",
       "      <td>not</td>\n",
       "    </tr>\n",
       "    <tr>\n",
       "      <th>20936</th>\n",
       "      <td>FFEBF00219AA7DC96F0D3584EF0581CD</td>\n",
       "      <td>525044 Fun Fun Fun ... 525045 5 Star Value - N...</td>\n",
       "      <td>not</td>\n",
       "    </tr>\n",
       "    <tr>\n",
       "      <th>20937</th>\n",
       "      <td>FFED3056EEF11D6B1CD49A874800A89E</td>\n",
       "      <td>121080 Five Stars 121081 Excellent rubber boot...</td>\n",
       "      <td>not</td>\n",
       "    </tr>\n",
       "  </tbody>\n",
       "</table>\n",
       "<p>20938 rows × 3 columns</p>\n",
       "</div>"
      ],
      "text/plain": [
       "                                   asin  \\\n",
       "0      00001378E0675643F36F8B5147FDA6D0   \n",
       "1      00010FEA8BF06921C276FE4DB4B63AB2   \n",
       "2      0001DCCBFABAC9E1073A1F87A393E5BA   \n",
       "3      0003494756240B4FC0579229A91398F7   \n",
       "4      00064AD7C050018B509A034445C74890   \n",
       "...                                 ...   \n",
       "20933  FFE4079FBEC0377CA942C4C3E3FDB127   \n",
       "20934  FFE64F533026658E64520B5F50C3338D   \n",
       "20935  FFE8D7BE871372F0FBD09DB5C962E335   \n",
       "20936  FFEBF00219AA7DC96F0D3584EF0581CD   \n",
       "20937  FFED3056EEF11D6B1CD49A874800A89E   \n",
       "\n",
       "                                                 summary predictions  \n",
       "0      158023 Awesome Product 158024 very nice rifle ...     awesome  \n",
       "1      151462 actually fits the Governor and makes ca...     awesome  \n",
       "2      464277 One of the best options out there for m...     awesome  \n",
       "3      284314 Fun at the range. 284315 Great fun 2843...         not  \n",
       "4      177600 Tackiest grip ever 177601 Sure Hands 17...     awesome  \n",
       "...                                                  ...         ...  \n",
       "20933  330833 Kid's snorkel vest. 330834 Couldn't blo...         not  \n",
       "20934  344744 I don't know that my 4 yr old nephew wo...         not  \n",
       "20935  58975 Five Stars 58976 Two Stars 58977 Four St...         not  \n",
       "20936  525044 Fun Fun Fun ... 525045 5 Star Value - N...         not  \n",
       "20937  121080 Five Stars 121081 Excellent rubber boot...         not  \n",
       "\n",
       "[20938 rows x 3 columns]"
      ]
     },
     "execution_count": 41,
     "metadata": {},
     "output_type": "execute_result"
    }
   ],
   "source": [
    "predictions = SVC_classifier.predict(test_counts)\n",
    "group_lists['predictions'] = predictions\n",
    "group_lists"
   ]
  },
  {
   "cell_type": "code",
   "execution_count": 42,
   "metadata": {},
   "outputs": [
    {
     "data": {
      "text/html": [
       "<div>\n",
       "<style scoped>\n",
       "    .dataframe tbody tr th:only-of-type {\n",
       "        vertical-align: middle;\n",
       "    }\n",
       "\n",
       "    .dataframe tbody tr th {\n",
       "        vertical-align: top;\n",
       "    }\n",
       "\n",
       "    .dataframe thead th {\n",
       "        text-align: right;\n",
       "    }\n",
       "</style>\n",
       "<table border=\"1\" class=\"dataframe\">\n",
       "  <thead>\n",
       "    <tr style=\"text-align: right;\">\n",
       "      <th></th>\n",
       "      <th>asin</th>\n",
       "      <th>predictions</th>\n",
       "    </tr>\n",
       "  </thead>\n",
       "  <tbody>\n",
       "    <tr>\n",
       "      <th>0</th>\n",
       "      <td>00001378E0675643F36F8B5147FDA6D0</td>\n",
       "      <td>awesome</td>\n",
       "    </tr>\n",
       "    <tr>\n",
       "      <th>1</th>\n",
       "      <td>00010FEA8BF06921C276FE4DB4B63AB2</td>\n",
       "      <td>awesome</td>\n",
       "    </tr>\n",
       "    <tr>\n",
       "      <th>2</th>\n",
       "      <td>0001DCCBFABAC9E1073A1F87A393E5BA</td>\n",
       "      <td>awesome</td>\n",
       "    </tr>\n",
       "    <tr>\n",
       "      <th>3</th>\n",
       "      <td>0003494756240B4FC0579229A91398F7</td>\n",
       "      <td>not</td>\n",
       "    </tr>\n",
       "    <tr>\n",
       "      <th>4</th>\n",
       "      <td>00064AD7C050018B509A034445C74890</td>\n",
       "      <td>awesome</td>\n",
       "    </tr>\n",
       "    <tr>\n",
       "      <th>...</th>\n",
       "      <td>...</td>\n",
       "      <td>...</td>\n",
       "    </tr>\n",
       "    <tr>\n",
       "      <th>20933</th>\n",
       "      <td>FFE4079FBEC0377CA942C4C3E3FDB127</td>\n",
       "      <td>not</td>\n",
       "    </tr>\n",
       "    <tr>\n",
       "      <th>20934</th>\n",
       "      <td>FFE64F533026658E64520B5F50C3338D</td>\n",
       "      <td>not</td>\n",
       "    </tr>\n",
       "    <tr>\n",
       "      <th>20935</th>\n",
       "      <td>FFE8D7BE871372F0FBD09DB5C962E335</td>\n",
       "      <td>not</td>\n",
       "    </tr>\n",
       "    <tr>\n",
       "      <th>20936</th>\n",
       "      <td>FFEBF00219AA7DC96F0D3584EF0581CD</td>\n",
       "      <td>not</td>\n",
       "    </tr>\n",
       "    <tr>\n",
       "      <th>20937</th>\n",
       "      <td>FFED3056EEF11D6B1CD49A874800A89E</td>\n",
       "      <td>not</td>\n",
       "    </tr>\n",
       "  </tbody>\n",
       "</table>\n",
       "<p>20938 rows × 2 columns</p>\n",
       "</div>"
      ],
      "text/plain": [
       "                                   asin predictions\n",
       "0      00001378E0675643F36F8B5147FDA6D0     awesome\n",
       "1      00010FEA8BF06921C276FE4DB4B63AB2     awesome\n",
       "2      0001DCCBFABAC9E1073A1F87A393E5BA     awesome\n",
       "3      0003494756240B4FC0579229A91398F7         not\n",
       "4      00064AD7C050018B509A034445C74890     awesome\n",
       "...                                 ...         ...\n",
       "20933  FFE4079FBEC0377CA942C4C3E3FDB127         not\n",
       "20934  FFE64F533026658E64520B5F50C3338D         not\n",
       "20935  FFE8D7BE871372F0FBD09DB5C962E335         not\n",
       "20936  FFEBF00219AA7DC96F0D3584EF0581CD         not\n",
       "20937  FFED3056EEF11D6B1CD49A874800A89E         not\n",
       "\n",
       "[20938 rows x 2 columns]"
      ]
     },
     "execution_count": 42,
     "metadata": {},
     "output_type": "execute_result"
    }
   ],
   "source": [
    "output = group_lists[['asin','predictions']].sort_values('asin')\n",
    "output"
   ]
  },
  {
   "cell_type": "code",
   "execution_count": 43,
   "metadata": {},
   "outputs": [],
   "source": [
    "output.to_csv('predictions.csv', index=False)"
   ]
  },
  {
   "cell_type": "code",
   "execution_count": null,
   "metadata": {},
   "outputs": [],
   "source": []
  }
 ],
 "metadata": {
  "kernelspec": {
   "display_name": "Python 3",
   "language": "python",
   "name": "python3"
  },
  "language_info": {
   "codemirror_mode": {
    "name": "ipython",
    "version": 3
   },
   "file_extension": ".py",
   "mimetype": "text/x-python",
   "name": "python",
   "nbconvert_exporter": "python",
   "pygments_lexer": "ipython3",
   "version": "3.8.3"
  }
 },
 "nbformat": 4,
 "nbformat_minor": 4
}
